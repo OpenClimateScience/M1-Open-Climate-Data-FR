{
 "cells": [
  {
   "cell_type": "markdown",
   "id": "b53e1984-5432-47cf-be67-26b286752b23",
   "metadata": {},
   "source": [
    "# M1.6 - Modèles Climatiques\n",
    "\n",
    "*Partie de:* [**Open Climate Data**](https://github.com/OpenClimateScience/M1-Open-Climate-Data) | **Leçon précédente** | **Leçon suivante**\n",
    "\n",
    "**Contenu :**\n",
    "\n",
    "- [Modèles de Circulation Générale](#Modèles-de-Circulation-Générale)\n",
    "- [Modèles du Système Terre](#Modèles-du-Système-Terre)"
   ]
  },
  {
   "cell_type": "markdown",
   "id": "61d6ada8-f0e2-4c5f-bb59-71aa763e9d55",
   "metadata": {},
   "source": [
    "## Modèles de Circulation Générale\n",
    "\n",
    "Les modèles de circulation générale (MCG) sont des représentations mathématiques complexes des échanges de radiation, de chaleur et de gaz traces atmosphériques. Comme vous pouvez le voir dans le schéma ci-dessous, un MCG modélise l'océan, l'atmosphère et la surface terrestre sous forme d'une collection de cellules de grille discrètes. Chaque cellule de grille peut échanger de l'énergie ou de la masse avec les cellules adjacentes. Des cellules de grille plus petites fourniraient une meilleure approximation de la Terre réelle, mais augmenteraient la complexité informatique. Dans un MCG, l'atmosphère tridimensionnelle complète est modélisée dans le temps pour simuler les changements climatiques passés, présents et futurs. Ils peuvent prédire les événements météorologiques sur des heures, des jours et même au-delà, bien que certains événements ne puissent être prédits de manière fiable que sur des échelles de temps plus courtes.\n",
    "\n",
    "![](./assets/GCM.png)\n",
    "\n",
    "*Crédit image : David Bice, Penn State University (Sous licence [CC-BY-NC-SA 4.0](https://creativecommons.org/licenses/by-nc-sa/4.0/))*\n",
    "\n",
    "Les MCG sont l'outil principal pour modéliser le changement climatique. Les comparaisons des prédictions des MCG avec le climat historique, en particulier les tendances et anomalies de température, indiquent que les MCG peuvent prédire assez précisément le système climatique terrestre. Cependant, les prédictions des MCG sont grossières sur le plan spatial, avec des cellules de grille généralement de l'ordre de 100 kilomètres carrés."
   ]
  },
  {
   "cell_type": "markdown",
   "id": "de3613e1-3bd4-4a42-b025-8d877977aa3f",
   "metadata": {
    "jp-MarkdownHeadingCollapsed": true
   },
   "source": [
    "## Modèles du Système Terre (MST)\n",
    "\n",
    "Les MCG représentent les échanges d'eau, de chaleur et de gaz entre la surface terrestre, les océans et l'atmosphère, mais ils ne tiennent pas compte des sociétés humaines et de la manière dont elles modifient ces processus. Un **Modèle du Système Terre (MST),** en revanche, est capable de représenter tout ce qui est dans un MCG, mais aussi des processus comme la déforestation, l'agriculture et le stockage ou la libération de carbone par les forêts et les sols. La figure ci-dessous (tirée de Bonan & Doney, 2018, *Science*) montre certaines des principales différences entre les MCG et les MST.\n",
    "\n",
    "![](./assets/M1_fig_Bonan_Doney_2018.jpg)\n",
    "\n",
    "*Image de Bonan & Doney (2018, Science)*\n",
    "\n",
    "Parce qu'ils incluent les changements causés par l'homme dans les écosystèmes, les MST peuvent être utilisés pour modéliser des scénarios de changements futurs potentiels."
   ]
  }
 ],
 "metadata": {
  "kernelspec": {
   "display_name": "Python 3 (ipykernel)",
   "language": "python",
   "name": "python3"
  },
  "language_info": {
   "codemirror_mode": {
    "name": "ipython",
    "version": 3
   },
   "file_extension": ".py",
   "mimetype": "text/x-python",
   "name": "python",
   "nbconvert_exporter": "python",
   "pygments_lexer": "ipython3",
   "version": "3.10.12"
  }
 },
 "nbformat": 4,
 "nbformat_minor": 5
}

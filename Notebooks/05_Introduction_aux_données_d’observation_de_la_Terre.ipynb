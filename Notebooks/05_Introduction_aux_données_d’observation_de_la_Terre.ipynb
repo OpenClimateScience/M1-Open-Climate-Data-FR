{
 "cells": [
  {
   "cell_type": "markdown",
   "id": "97e56497-bb38-4188-ac4f-3467d7edb6a9",
   "metadata": {},
   "source": [
    "# M1.5 - Données d'observation de la Terre\n",
    "\n",
    "*Partie de:* [**Open Climate Data**](https://github.com/OpenClimateScience/M1-Open-Climate-Data) | **Leçon précédente** | **Leçon suivante**"
   ]
  },
  {
   "cell_type": "markdown",
   "id": "a40c29b2-39bc-4a44-b07a-265353a7237d",
   "metadata": {},
   "source": [
    "**Contenu :**\n",
    "\n",
    "- [Sources de données satellitaires](#Sources-de-données-satellitaires)\n",
    "- [Jeux de données multi-capteurs](#Jeux-de-données-multi-capteurs)\n",
    "- [Utilisation des données satellitaires sur les précipitations](#Utilisation-des-données-satellitaires-sur-les-précipitations)\n",
    "- [Zoom sur une zone d'étude](#Zoom-sur-une-zone-d'étude)\n",
    "- [Utilisation de `cartopy`](#Utilisation-de-cartopy)\n",
    "- [Fusion de plusieurs jeux de données de séries temporelles](#Fusion-de-plusieurs-jeux-de-données-de-séries-temporelles)"
   ]
  },
  {
   "cell_type": "markdown",
   "id": "948bc476-4c95-4021-a04d-07907aa7e143",
   "metadata": {},
   "source": [
    "## Sources de données satellitaires\n",
    "\n",
    "La constellation de satellites d'observation de la Terre de la NASA offre de nombreuses sources d'informations sur le système climatique terrestre. Le site [Eyes on the Earth de la NASA](https://eyes.nasa.gov/apps/earth/) montre où se trouvent de nombreux satellites en temps réel.\n",
    "\n",
    "La plupart des satellites d'observation de la Terre de la NASA ont des **orbites polaires héliosynchrones** (voir la figure ci-dessous). Cela signifie que l'orbite du satellite passe toujours (presque) au-dessus des pôles terrestres tandis que la Terre tourne sous lui. Lorsque le satellite se déplace entre les pôles, il traverse l'équateur à la même heure locale, mais sur une partie différente de la Terre.\n",
    "\n",
    "![](./assets/sun-synchronous.png)\n",
    "\n",
    "*Image provenant de [NASA's Earth Observatory.](https://earthobservatory.nasa.gov/features/OrbitsCatalog)*\n",
    "\n",
    "Les satellites d'observation de la Terre transportent des capteurs pointés vers la Terre pour effectuer des mesures de la surface ou de l'atmosphère. Les capteurs mesurent une partie du spectre électromagnétique : soit la lumière visible, l'infrarouge proche et infrarouge à ondes courtes, les ondes infrarouges ou les micro-ondes. Ces capteurs peuvent être décrits en termes de :\n",
    "\n",
    "- **Résolution spectrale :** Le nombre de types d'énergie électromagnétique détectés et la précision de l'espacement entre les bandes de longueurs d'onde.\n",
    "- **Résolution spatiale :** La plus petite taille de cible mesurable sur le sol.\n",
    "- **Résolution temporelle :** La fréquence à laquelle un capteur acquiert des données sur une localisation spécifique.\n",
    "\n",
    "La résolution temporelle est également appelée **temps de revisite :** le temps nécessaire pour que le capteur observe la même localisation sur la Terre sous le même angle de vue. Le temps de revisite détermine la fréquence à laquelle nous pouvons obtenir des informations sur les systèmes agricoles."
   ]
  },
  {
   "cell_type": "markdown",
   "id": "7b2ac00f-fded-4d04-bd63-7f94a6db7fd0",
   "metadata": {},
   "source": [
    "## Jeux de données multi-capteurs\n",
    "\n",
    "Différentes missions satellitaires, qu'elles se chevauchent ou soient séparées par des années, mesurent parfois la même chose. **Les précipitations** sont une variable climatique importante pour l'agriculture, mesurée par plusieurs missions satellitaires dans la constellation de mesure des précipitations mondiales (GPM) de la NASA.\n",
    "\n",
    "![](./assets/GPM-constellation.jpg)"
   ]
  },
  {
   "cell_type": "markdown",
   "id": "f0a18bb0-2b0e-47db-8ecb-b9752f3f4094",
   "metadata": {},
   "source": [
    "### Données de précipitations IMERG\n",
    "\n",
    "L'algorithme IMERG (Integrated Multi-satellite Retrievals for GPM) combine les données de ces différentes missions GPM pour estimer les précipitations totales à travers le globe à des intervalles de 30 minutes et avec une résolution de 10 km. Il existe trois (3) produits IMERG différents, différenciés par la manière dont ils intègrent les données et leur latence, c'est-à-dire la rapidité avec laquelle ils sont disponibles :\n",
    "\n",
    "- IMERG \"Early\" a la latence la plus faible, disponible environ 4 heures après la collecte des données, mais peut être le moins précis car il ne projette que vers l'avant dans le temps.\n",
    "- IMERG \"Late\" a une latence d'environ 14 heures et utilise des projections avant et arrière pour améliorer les estimations.\n",
    "- IMERG \"Final\" a une latence d'environ 3,5 mois mais est le produit le plus précis car il intègre des données de pluviomètres au sol."
   ]
  },
  {
   "cell_type": "markdown",
   "id": "61aa97ee-8d82-43f2-bdbf-5eb7167c0eaf",
   "metadata": {},
   "source": [
    "## Utilisation des données satellitaires sur les précipitations"
   ]
  },
  {
   "cell_type": "markdown",
   "id": "4705c000-4347-46ac-b851-5e09496f063c",
   "metadata": {},
   "source": [
    "Des parties du nord de l'Algérie et de la Tunisie ont connu des inondations soudaines en mai 2023. Utilisons le produit IMERG-Late pour quantifier la quantité totale de précipitations tombée dans la région sur une journée.\n"
   ]
  },
  {
   "cell_type": "code",
   "execution_count": null,
   "id": "5af7c0c0-b184-4c29-98f1-94033f52e678",
   "metadata": {
    "scrolled": true
   },
   "outputs": [],
   "source": [
    "import earthaccess\n",
    "import xarray as xr\n",
    "from matplotlib import pyplot\n",
    "\n",
    "auth = earthaccess.login()"
   ]
  },
  {
   "cell_type": "markdown",
   "id": "b712bf96-d42d-4604-b973-9f283b3e679f",
   "metadata": {},
   "source": [
    "Bien que les données IMERG-Final soient produites à des intervalles de 30 minutes, nous utiliserons aujourd'hui [une version des données qui a été agrégée à des pas de temps quotidiens.](https://disc.gsfc.nasa.gov/datasets/GPM_3IMERGDF_06/summary)"
   ]
  },
  {
   "cell_type": "code",
   "execution_count": null,
   "id": "a9c1227d-a06b-4fab-8b12-966915e67dcb",
   "metadata": {},
   "outputs": [],
   "source": [
    "results = earthaccess.search_data(\n",
    "    short_name = 'GPM_3IMERGDF',\n",
    "    temporal = ('2023-05-25', '2023-05-30'))\n",
    "\n",
    "results[0]"
   ]
  },
  {
   "cell_type": "code",
   "execution_count": null,
   "id": "3f97ff3f-35c0-4555-945b-0060c1c54be9",
   "metadata": {},
   "outputs": [],
   "source": [
    "# REMARQUE : open() nécessite une séquence de références de fichiers\n",
    "files = earthaccess.open(results)\n",
    "files"
   ]
  },
  {
   "cell_type": "code",
   "execution_count": null,
   "id": "fbb2c0ba-9ae5-497c-a421-3e14404185e3",
   "metadata": {},
   "outputs": [],
   "source": [
    "ds = xr.open_dataset(files[1])\n",
    "ds"
   ]
  },
  {
   "cell_type": "code",
   "execution_count": null,
   "id": "05ccbfaa-1b71-4a56-ab84-2cc52cf630ab",
   "metadata": {},
   "outputs": [],
   "source": [
    "list(ds.variables.keys())"
   ]
  },
  {
   "cell_type": "markdown",
   "id": "7c6dfa1c-877f-444a-bf37-368a20d497e4",
   "metadata": {},
   "source": [
    "Il y a beaucoup de variables différentes dans ce jeu de données, toutes décrites dans [la documentation IMERG-Late.](https://disc.gsfc.nasa.gov/datasets/GPM_3IMERGDF_06/summary) Nous utiliserons la variable `precipitation`, qui est l'estimation multi-satellite, calibrée par pluviomètre, que la NASA recommande pour une utilisation générale."
   ]
  },
  {
   "cell_type": "code",
   "execution_count": null,
   "id": "598cdc94-0185-493b-90d9-229114f2238e",
   "metadata": {},
   "outputs": [],
   "source": [
    "ds['precipitation']"
   ]
  },
  {
   "cell_type": "code",
   "execution_count": null,
   "id": "e58d5dd5-6875-4c8b-ac3e-6eb05cce34fe",
   "metadata": {},
   "outputs": [],
   "source": [
    "# REMARQUE : vmax = 100 facilite la visualisation des valeurs de précipitation plus faibles\n",
    "ds['precipitation'].plot(vmax = 100)"
   ]
  },
  {
   "cell_type": "markdown",
   "id": "1fef4062-7218-44cd-8f27-bee1dd9763e7",
   "metadata": {},
   "source": [
    "Ça a l'air bizarre ! Des idées sur ce qui ne va pas ?\n",
    "\n",
    "#### &#x1F6A9; <span style=\"color:red\">Attention</red>\n",
    "\n",
    "Nous devons faire pivoter le graphique pour que les lignes de l'image correspondent aux bandes de latitude. **En particulier, nous devons dire à `xarray` que la longitude (\"lon\") doit s'étendre sur l'axe X et que la latitude (\"lat\") doit s'étendre sur l'axe Y.**"
   ]
  },
  {
   "cell_type": "code",
   "execution_count": null,
   "id": "bfe90a5f-ff63-4351-9e4f-d4e0cb2d1aa8",
   "metadata": {},
   "outputs": [],
   "source": [
    "ds['precipitation'].plot(x = 'lon', y = 'lat', vmax = 100)"
   ]
  },
  {
   "cell_type": "markdown",
   "id": "472bc1db-feb9-4155-a588-316308df0ddd",
   "metadata": {},
   "source": [
    "Cela semble mieux. Mais pourquoi la majeure partie de l'image est-elle sombre ?\n",
    "\n",
    "Le moyen le plus simple de voir plus de détails dans l'image est de demander à `xarray` d'étirer la barre de couleur afin que les valeurs extrêmes ne dominent pas ; nous faisons cela avec `robust = True`."
   ]
  },
  {
   "cell_type": "code",
   "execution_count": null,
   "id": "d5a69102-470d-4f03-abc1-22a500d8eabd",
   "metadata": {},
   "outputs": [],
   "source": [
    "ds['precipitation'].plot(x = 'lon', y = 'lat', robust = True)"
   ]
  },
  {
   "cell_type": "markdown",
   "id": "28114562-e23a-480e-ba4d-ad2d3a03121b",
   "metadata": {},
   "source": [
    "Nous pourrions également indiquer à `xarray` quelle doit être la valeur maximale assignée à une couleur, en utilisant l'argument `vmax`. Il y a un argument correspondant `vmin` pour la valeur minimale."
   ]
  },
  {
   "cell_type": "code",
   "execution_count": null,
   "id": "bf995ae9-2736-4564-ba6c-56ee0d41878b",
   "metadata": {},
   "outputs": [],
   "source": [
    "ds['precipitation'].plot(x = 'lon', y = 'lat', vmax = 15)"
   ]
  },
  {
   "cell_type": "markdown",
   "id": "c69184fb-2d35-4697-8e57-7e94608a18bb",
   "metadata": {},
   "source": [
    "## Zoom sur une zone d'étude"
   ]
  },
  {
   "cell_type": "markdown",
   "id": "133d189a-acea-4609-b8ba-b331f84c0881",
   "metadata": {},
   "source": [
    "Comment pouvons-nous utiliser ces données pour des applications locales ? Nous devons trouver un moyen de concentrer la carte sur une zone plus petite.\n",
    "\n",
    "La fonction `slice()` intégrée à Python peut être utilisée avec la méthode `sel()` d'un DataArray `xarray` pour découper un tableau plus grand en un tableau plus petit. Ici, nous nous concentrons sur une petite zone rectangulaire incluant Alger."
   ]
  },
  {
   "cell_type": "code",
   "execution_count": null,
   "id": "e7d32154-e072-40a8-a533-90692a334b9b",
   "metadata": {},
   "outputs": [],
   "source": [
    "# Zone entre 30 et 40 degrés N de latitude et entre 6 W et 6 E de longitude\n",
    "precip = ds['precipitation'].sel(lat = slice(30, 40), lon = slice(-6, 6))\n",
    "\n",
    "precip.plot(x = 'lon', y = 'lat')"
   ]
  },
  {
   "cell_type": "markdown",
   "id": "b361de0f-a923-49d0-9305-1757d5f738a4",
   "metadata": {},
   "source": [
    "## Utilisation de `cartopy`"
   ]
  },
  {
   "cell_type": "markdown",
   "id": "5e16a6c8-b424-4ce4-84f1-585446241f43",
   "metadata": {},
   "source": [
    "Il est judicieux de vérifier que nous cartographions la bonne partie du monde, d'autant plus que les données IMERG sont rotées. `cartopy` est une bibliothèque Python qui fournit des outils cartographiques supplémentaires.\n",
    "\n",
    "Ci-dessous, j'ai changé la carte des couleurs, `cmap`, afin qu'il soit plus facile de voir les côtes sombres au-dessus des données de précipitations.\n",
    "\n",
    "Notez que Plate-Carree est simplement un terme élégant pour un système de coordonnées équirectangulaires, c'est-à-dire un tracé longitude-latitude."
   ]
  },
  {
   "cell_type": "code",
   "execution_count": null,
   "id": "8e65db8f-9a87-4454-bd6b-89e766f436b8",
   "metadata": {},
   "outputs": [],
   "source": [
    "from cartopy import crs\n",
    "\n",
    "proj = crs.PlateCarree()\n",
    "style = {\n",
    "    'projection': proj\n",
    "}\n",
    "\n",
    "plot = precip.plot(subplot_kws = style, transform = proj, cmap = 'magma_r', x = 'lon', y = 'lat')\n",
    "plot.axes.coastlines()"
   ]
  },
  {
   "cell_type": "markdown",
   "id": "245df44a-19f5-41cf-a793-56febc656f22",
   "metadata": {},
   "source": [
    "[Vous pouvez voir les autres cartes de couleurs disponibles ici.](https://matplotlib.org/stable/gallery/color/colormap_reference.html) Toute carte de couleurs peut être inversée en ajoutant `'_r'` à la fin du nom de la carte des couleurs.\n",
    "\n",
    "#### &#x1F3AF; Meilleure Pratique\n",
    "\n",
    "**Il est important de choisir la bonne carte des couleurs pour vos données.** Les gens pensent parfois qu'une échelle de couleurs arc-en-ciel est meilleure car elle contient \"plus de couleurs\". Cependant, dans l'exemple ci-dessous, vous pouvez voir qu'une échelle de couleurs arc-en-ciel met en évidence différentes parties de l'échelle linéaire. Le changement de couleur entre 40 et 60 mm semble beaucoup plus marqué que le changement entre 0 et 20 mm, bien que ce soit la même taille d'étape (différence de 20 mm). C'est un exemple de la façon dont l'échelle de couleurs arc-en-ciel ne parvient pas à fournir une **linéarité perceptive** ; la perception d'un changement de teinte ou de luminosité qui est proportionnel au changement de valeur numérique (par exemple, précipitation)."
   ]
  },
  {
   "cell_type": "code",
   "execution_count": null,
   "id": "5a88ead7-d636-4f9c-9e9d-ca23ff600f5d",
   "metadata": {},
   "outputs": [],
   "source": [
    "plot = precip.plot(subplot_kws = style, transform = proj, cmap = 'jet', x = 'lon', y = 'lat')\n",
    "plot.axes.coastlines()"
   ]
  },
  {
   "cell_type": "markdown",
   "id": "2d1acc00-ab9e-4106-92ef-53a4c1e8c334",
   "metadata": {},
   "source": [
    "**Mais les échelles de couleurs arc-en-ciel posent également problème pour les personnes daltoniennes, comme vous pouvez le voir dans la simulation de ce que certains spectateurs daltoniens expérimenteraient en regardant différentes échelles de couleurs.**\n",
    "\n",
    "![](assets/M1_fig_colorblind_scales.jpg)\n",
    "\n",
    "*Image provenant de [Light & Bartlein (2004)](https://eos.org/features/the-end-of-the-rainbow-color-schemes-for-improved-data-graphics)*"
   ]
  },
  {
   "cell_type": "markdown",
   "id": "1639f21a-b658-4574-a621-2dfae33523a8",
   "metadata": {},
   "source": [
    "**Heureusement, la plupart des cartes des couleurs disponibles dans `xarray` et `matplotlib` sont perceptuellement linéaires, et beaucoup d'entre elles restent cohérentes pour les spectateurs daltoniens.** Vous pouvez voir certaines de ces cartes des couleurs plus en détail sur le [site web du Dr Cynthia Brewer.](https://colorbrewer2.org/#type=sequential&scheme=BuGn&n=3)\n",
    "\n",
    "**Alors, combien de pluie est tombée autour d'Alger ce jour-là ?**"
   ]
  },
  {
   "cell_type": "code",
   "execution_count": null,
   "id": "e9097d3a-eff5-4d58-ae90-9270ad177334",
   "metadata": {},
   "outputs": [],
   "source": [
    "precip.sel(lon = 3.059, lat = 36.754, method = 'nearest').values"
   ]
  },
  {
   "cell_type": "markdown",
   "id": "1dea2425-01a4-4017-8807-bec83fab2ad2",
   "metadata": {},
   "source": [
    "C'est une bonne quantité de pluie pour cette région en une seule journée, mais la carte ci-dessus montre clairement qu'il y a des zones près d'Alger qui ont reçu plus de pluie. Quelle est la précipitation maximale sur la côte d'Alger ?"
   ]
  },
  {
   "cell_type": "code",
   "execution_count": null,
   "id": "fb3af4a4-d9e5-4c8e-b87a-b1cf9858cb9a",
   "metadata": {},
   "outputs": [],
   "source": [
    "precip.sel(lon = slice(3, 3.2), lat = slice(36.5, 36.8)).max()"
   ]
  },
  {
   "cell_type": "markdown",
   "id": "2f3dad0e-03e8-4f8a-8454-8124bc9547c9",
   "metadata": {},
   "source": [
    "Petit rappel, étant donné que les `values` sont renvoyées sous forme de tableau NumPy, nous pouvons faire des calculs sur ces tableaux, les traiter comme s'il s'agissait de simples nombres. Ainsi, une conversion de mm à mètres est facile :"
   ]
  },
  {
   "cell_type": "code",
   "execution_count": null,
   "id": "18b2c85f-7502-40c9-a50f-8b5cfc4a121d",
   "metadata": {},
   "outputs": [],
   "source": [
    "precip.sel(lon = slice(3, 3.2), lat = slice(36.5, 36.8)).max() / 1000"
   ]
  },
  {
   "cell_type": "markdown",
   "id": "c5cfea84-a9fe-4cf3-a9c0-233803858975",
   "metadata": {},
   "source": [
    "## Fusion de plusieurs jeux de données de séries temporelles\n",
    "\n",
    "Chaque granule IMERG de cette collection est une estimation quotidienne des précipitations."
   ]
  },
  {
   "cell_type": "code",
   "execution_count": null,
   "id": "4c8b18a2-c7d7-40b1-8021-18e83ad549b4",
   "metadata": {},
   "outputs": [],
   "source": [
    "files"
   ]
  },
  {
   "cell_type": "markdown",
   "id": "2dc30593-56d0-445c-8cc6-3036c89a6d56",
   "metadata": {},
   "source": [
    "Plus tôt, nous avons développé une série temporelle de températures en ouvrant chaque fichier MERRA-2 dans une boucle `for`. Nous pouvons obtenir une série temporelle de précipitations de la même manière."
   ]
  },
  {
   "cell_type": "code",
   "execution_count": null,
   "id": "897c0ee3-9566-4f94-b7d0-e6ffb8801675",
   "metadata": {},
   "outputs": [],
   "source": [
    "# Cela peut prendre une demi-minute\n",
    "datasets = []\n",
    "for filename in files:\n",
    "    ds = xr.open_dataset(filename)\n",
    "    datasets.append(ds['precipitation'])"
   ]
  },
  {
   "cell_type": "code",
   "execution_count": null,
   "id": "695f1e13-b3d5-4eef-b017-09986618b047",
   "metadata": {},
   "outputs": [],
   "source": [
    "len(datasets)"
   ]
  },
  {
   "cell_type": "markdown",
   "id": "1577b91f-69cc-46df-a562-5ea1b8211e58",
   "metadata": {},
   "source": [
    "Dans l'exemple MERRA-2, nous avons extrait la valeur de température à un emplacement spécifique avant de l'ajouter à une liste. Mais `xarray` est capable de représenter plusieurs pas de temps dans un seul jeu de données. Est-il possible de fusionner les pas de temps adjacents ?\n",
    "\n",
    "Nous pouvons faire cela avec la fonction `concat()` dans `xarray`. Nous spécifions que les multiples jeux de données que nous avons ouverts doivent être joints le long de la dimension `'time'`."
   ]
  },
  {
   "cell_type": "code",
   "execution_count": null,
   "id": "d9b2315e-3b27-4bb8-a051-ed9bc51eb178",
   "metadata": {},
   "outputs": [],
   "source": [
    "time_series = xr.concat(datasets, dim = 'time')"
   ]
  },
  {
   "cell_type": "markdown",
   "id": "1dc9092d-558a-483f-94d3-1ffd3bc047df",
   "metadata": {},
   "source": [
    "Maintenant que nous avons tous les pas de temps dans un seul jeu de données, lorsque nous utilisons l'indexation basée sur des labels avec la fonction `sel()`, nous pouvons obtenir une estimation ponctuelle pour chaque pas de temps (6 jours au total)."
   ]
  },
  {
   "cell_type": "code",
   "execution_count": null,
   "id": "8517af44-2ebd-4a69-b14a-3e8e8e977850",
   "metadata": {},
   "outputs": [],
   "source": [
    "time_series.sel(lon = 3.059, lat = 36.754, method = 'nearest')"
   ]
  },
  {
   "cell_type": "code",
   "execution_count": null,
   "id": "28833c3b-33b3-4950-b28b-c2c94f1494e4",
   "metadata": {},
   "outputs": [],
   "source": [
    "time_series.sel(lon = 3.059, lat = 36.754, method = 'nearest').plot()"
   ]
  }
 ],
 "metadata": {
  "kernelspec": {
   "display_name": "Python 3 (ipykernel)",
   "language": "python",
   "name": "python3"
  },
  "language_info": {
   "codemirror_mode": {
    "name": "ipython",
    "version": 3
   },
   "file_extension": ".py",
   "mimetype": "text/x-python",
   "name": "python",
   "nbconvert_exporter": "python",
   "pygments_lexer": "ipython3",
   "version": "3.10.12"
  }
 },
 "nbformat": 4,
 "nbformat_minor": 5
}

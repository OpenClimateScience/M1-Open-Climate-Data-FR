{
 "cells": [
  {
   "cell_type": "markdown",
   "id": "a79bde19-ec9b-401e-8ad0-6bfad1ad6dc3",
   "metadata": {},
   "source": [
    "# M1.7 - Utiliser les données de réanalyse pour étudier la sécheresse"
   ]
  },
  {
   "cell_type": "markdown",
   "id": "0d24afa7-54b1-45bc-ab6b-9164cab19231",
   "metadata": {},
   "source": [
    "*Partie de :* [**Open Climate Data**](https://github.com/OpenClimateScience/M1-Open-Climate-Data) | **Leçon précédente** | **Leçon suivante**\n",
    "\n",
    "**Contenu :**\n",
    "\n",
    "- [Organisation de notre système de fichiers](#Organisation-de-notre-système-de-fichiers)\n",
    "- [Téléchargement des données NLDAS](#Téléchargement-des-données-NLDAS)\n",
    "- [Comprendre le format de fichier netCDF](#Comprendre-le-format-de-fichier-netCDF)\n",
    "  - [Obtenir des valeurs réelles à partir des jeux de données netCDF](#Obtenir-des-valeurs-réelles-à-partir-des-jeux-de-données-netCDF)\n",
    "  - [Tracer les variables netCDF4](#Tracer-les-variables-netCDF4)\n",
    "- [Ouvrir plusieurs fichiers avec `xarray`](#Ouvrir-plusieurs-fichiers-avec-xarray)\n",
    "- [Calculer une climatologie](#Calculer-une-climatologie)\n",
    "  - [Décrire les extrêmes climatiques à l'aide des anomalies](#Décrire-les-extrêmes-climatiques-à-l'aide-des-anomalies)\n",
    "- [Écrire du code réutilisable et de la documentation](#Écrire-du-code-réutilisable-et-de-la-documentation)\n",
    "  - [Répéter notre analyse des données climatiques](#Répéter-notre-analyse-des-données-climatiques)\n",
    "- [Calcul du déficit de pression de vapeur](#Calcul-du-déficit-de-pression-de-vapeur)\n",
    "  - [Sauvegarder nos résultats](#Sauvegarder-nos-résultats)\n",
    "\n",
    "---"
   ]
  },
  {
   "cell_type": "markdown",
   "id": "2eea7189-42c4-4f69-89c1-99053040b61b",
   "metadata": {},
   "source": [
    "Utilisons tout ce que nous avons appris jusqu'à présent pour étudier un véritable événement de sécheresse dans un système agricole.\n",
    "\n",
    "Alors que la sécheresse météorologique est caractérisée par un déficit de précipitations, **la sécheresse éclair** se caractérise par une demande soudaine et extrême en eau de la part de la surface terrestre : \"taux d'évapotranspiration anormalement élevés, causés par des températures, des vents et/ou des radiations entrantes anormalement élevés\" (Chen et al. 2019).\n",
    "\n",
    "En 2017, une sécheresse éclair est apparue dans les Grandes Plaines du Nord des États-Unis. Le U.S. Drought Monitor a estimé que, le 5 septembre 2017, environ 23 % de la région connaissait des conditions de \"sécheresse extrême\", entraînant des pertes de récoltes et des pénuries d'eau (He et al. 2019, *Environmental Research Letters*).\n",
    "\n",
    "**Pour cette étude de cas, nous allons considérer les variables climatiques et les sources de données suivantes :**\n",
    "\n",
    "- Données sur l'évapotranspiration, la radiation et l'humidité du sol issues du [Système d'assimilation de données des terres de l'Amérique du Nord (NLDAS)](https://disc.gsfc.nasa.gov/datasets/NLDAS_NOAH0125_M_2.0/summary?keywords=NLDAS), un ensemble de données de réanalyse.\n",
    "- Température de l'air, pression et humidité, provenant des [données de forçage NLDAS](https://disc.gsfc.nasa.gov/datasets/NLDAS_FORA0125_M_2.0/summary?keywords=NLDAS)\n",
    "- Humidité du sol de la mission Soil Moisture Active Passive (SMAP)"
   ]
  },
  {
   "cell_type": "code",
   "execution_count": null,
   "id": "25c13a88-9869-4dad-8384-e863e384589c",
   "metadata": {},
   "outputs": [],
   "source": [
    "import earthaccess\n",
    "import numpy as np\n",
    "import xarray as xr\n",
    "from matplotlib import pyplot\n",
    "\n",
    "auth = earthaccess.login()"
   ]
  },
  {
   "cell_type": "markdown",
   "id": "38f7b524-c0a6-46d7-9a8c-255d2a9a5c55",
   "metadata": {},
   "source": [
    "## Organisation de notre système de fichiers\n",
    "\n",
    "Nous aurons besoin d'un endroit pour stocker ces données brutes. Il est important d'avoir un dossier dans notre système de fichiers réservé à ces données brutes afin de pouvoir les garder séparées de tout nouvel ensemble de données (résultats) que nous pourrions créer.\n",
    "\n",
    "**Créez un dossier appelé `outputs` dans le système de fichiers de votre Jupyter Notebook.** Vous pouvez le faire depuis la page d'accueil de Jupyter Notebook (l'arborescence des fichiers) en sélectionnant \"Nouveau\" puis \"Nouveau dossier\" comme dans la capture d'écran ci-dessous.\n",
    "\n",
    "![](./assets/M1_screenshot_Jupyter_new_folder.png)\n",
    "\n",
    "**Créons également un dossier appelé `data_raw` dans le système de fichiers de votre Jupyter Notebook. Créez deux sous-dossiers dans `data_raw` :**\n",
    "\n",
    "- `NLDAS`\n",
    "- `SMAP_L3`"
   ]
  },
  {
   "cell_type": "markdown",
   "id": "33676b6a-9cef-4442-b02a-3ee286a37c48",
   "metadata": {},
   "source": [
    "#### &#x1F3AF; Bonne pratique\n",
    "\n",
    "Nous ne devons jamais modifier les données brutes (que nous allons télécharger). Cela rendrait difficile la répétition de l'analyse que nous allons réaliser, car nous perdrions les valeurs de données originales. Cela ne signifie pas que nous devons conserver le dossier `data_raw` pour toujours : s'il s'agit de données disponibles publiquement, nous pourrons toujours les télécharger à nouveau."
   ]
  },
  {
   "cell_type": "markdown",
   "id": "22575e4c-dada-4ebe-8d8e-67b5f55fc39d",
   "metadata": {},
   "source": [
    "---\n",
    "\n",
    "## Téléchargement des données NLDAS\n",
    "\n",
    "Nous allons à nouveau utiliser la fonction `earthaccess.search_data()`. Dans ce cas, le `short_name` et la `version` peuvent être trouvés sur [le site du Goddard Earth Sciences (GES) Data and Information Services Center (DISC) pour ce produit.](https://disc.gsfc.nasa.gov/datasets/NLDAS_NOAH0125_M_2.0/summary?keywords=NLDAS)\n",
    "\n",
    "**Les données NLDAS qui nous intéressent sont compilées mensuellement, et nous voulons télécharger un ensemble de données mensuel pour août de chaque année.** Comme les dates que nous voulons ne sont pas consécutives, nous devons appeler `earthaccess.search_data()` dans une boucle `for`. Ci-dessous, nous utilisons également le formatage de chaîne pour que la chaîne `f'{year}-08'` devienne, par exemple : `'2008-08'`, `'2009-08'`, et ainsi de suite."
   ]
  },
  {
   "cell_type": "code",
   "execution_count": null,
   "id": "573cde0a-21a3-4a6d-bc78-78aa58b51804",
   "metadata": {},
   "outputs": [],
   "source": [
    "# Instructeur : Montrez comment trouver le \"short_name\" et la \"version\"\n",
    "\n",
    "results = []\n",
    "\n",
    "# Obtenir les données d'août pour chaque année de 2008 jusqu'à (mais sans inclure) 2018\n",
    "for year in range(2008, 2018):\n",
    "    search = earthaccess.search_data(\n",
    "        short_name = 'NLDAS_NOAH0125_M',\n",
    "        version = '2.0',\n",
    "        temporal = (f'{year}-08', f'{year}-08'))\n",
    "    results.extend(search)"
   ]
  },
  {
   "cell_type": "code",
   "execution_count": null,
   "id": "759f8847-6347-4ad7-8179-de355a4ba781",
   "metadata": {},
   "outputs": [],
   "source": [
    "len(results)"
   ]
  },
  {
   "cell_type": "markdown",
   "id": "c12eab9d-a5d7-4eef-8191-140c30c037e8",
   "metadata": {},
   "source": [
    "Auparavant, nous avons utilisé `earthaccess.open()` pour accéder à ces données. Cette fois, nous utiliserons `earthaccess.download()`. Quelle est la différence ?\n",
    "\n",
    "- `earthaccess.open()` fournit un objet de type fichier qui est disponible pour être téléchargé et lu *uniquement si nous en avons besoin.*\n",
    "- `earthaccess.download()` télécharge réellement le fichier dans notre système de fichiers.\n",
    "\n",
    "**Remarquez ci-dessous que nous indiquons à `earthaccess.download()` de placer les fichiers téléchargés dans notre nouveau dossier `data_raw`.**"
   ]
  },
  {
   "cell_type": "code",
   "execution_count": null,
   "id": "2f3692c6-ae6c-4f6d-b919-747917eb9795",
   "metadata": {},
   "outputs": [],
   "source": [
    "earthaccess.download(results, 'data_raw/NLDAS')"
   ]
  },
  {
   "cell_type": "markdown",
   "id": "d9fcd7b2-9b50-4367-847e-dce4cae46fdb",
   "metadata": {},
   "source": [
    "---\n",
    "\n",
    "## Comprendre le format de fichier netCDF\n",
    "\n",
    "Bien que nous puissions ouvrir ces fichiers netCDF en utilisant `xarray`, nous allons d'abord utiliser une autre bibliothèque Python appelée `netCDF4`. Cela nous aidera à en apprendre davantage sur le format de fichier netCDF."
   ]
  },
  {
   "cell_type": "code",
   "execution_count": null,
   "id": "e8743148-9ae6-434e-89bc-ee10f2e3296b",
   "metadata": {},
   "outputs": [],
   "source": [
    "import netCDF4\n",
    "\n",
    "nc = netCDF4.Dataset('data_raw/NLDAS/NLDAS_NOAH0125_M.A200808.020.nc')"
   ]
  },
  {
   "cell_type": "markdown",
   "id": "4e0479a8-8cc0-4dee-bcf1-5003badaa8f1",
   "metadata": {},
   "source": [
    "Comme nous en avons déjà discuté, l'un des avantages du format de fichier netCDF est qu'il est **auto-documenté ;** il existe des informations descriptives au niveau du fichier et au niveau des ensembles de données, appelées **attributs.**\n",
    "\n",
    "Lors de l'utilisation de la bibliothèque `netCDF4` pour ouvrir un fichier netCDF, nous pouvons accéder aux **attributs au niveau du fichier** de cette manière :"
   ]
  },
  {
   "cell_type": "code",
   "execution_count": null,
   "id": "47921a58-b40f-4fc9-8f57-99187054d527",
   "metadata": {},
   "outputs": [],
   "source": [
    "nc.ncattrs()"
   ]
  },
  {
   "cell_type": "markdown",
   "id": "1b9202eb-b4f3-4772-a560-6ac83006ac7b",
   "metadata": {},
   "source": [
    "Et nous pouvons accéder aux **attributs au niveau des ensembles de données** de cette manière :"
   ]
  },
  {
   "cell_type": "code",
   "execution_count": null,
   "id": "7e375fdb-7939-48c0-9b3c-76dde699858f",
   "metadata": {},
   "outputs": [],
   "source": [
    "nc['Evap'].ncattrs()"
   ]
  },
  {
   "cell_type": "markdown",
   "id": "b7bf959b-7041-4f53-b031-f40ea60eb250",
   "metadata": {},
   "source": [
    "### Obtenir des valeurs réelles à partir des jeux de données netCDF\n",
    "\n",
    "Il existe des différences significatives entre la manière dont les bibliothèques `xarray` et `netCDF4` représentent les fichiers netCDF. Une différence importante réside dans la manière dont les données de tableau sont lues à partir des fichiers.\n",
    "\n",
    "Le package `netCDF4` lit les données de tableau du fichier telles qu'elles sont stockées sur le disque."
   ]
  },
  {
   "cell_type": "code",
   "execution_count": null,
   "id": "22a08166-9af5-4359-a061-45df888bc323",
   "metadata": {},
   "outputs": [],
   "source": [
    "nc['Evap']"
   ]
  },
  {
   "cell_type": "markdown",
   "id": "4c66a146-d0ab-4674-b24f-2539a81f0a10",
   "metadata": {},
   "source": [
    "**Remarquez les attributs `scale_factor`, `add_offset` et `missing_value`.** Ceux-ci sont très importants à prendre en compte en raison de la manière dont les fichiers netCDF4 stockent parfois des variables. Si les variables sont compactées d'une certaine manière pour économiser de l'espace disque, nous devons transformer les valeurs compactées en valeurs réelles avant d'utiliser les données :\n",
    "\n",
    "$$\n",
    "\\text{Valeur réelle} = (\\text{Valeur compactée}\\times \\text{Facteur de mise à l'échelle}) + \\text{Décalage}\n",
    "$$\n",
    "\n",
    "**Lorsque nous examinons les attributs du jeu de données `\"Evap\"` (évapotranspiration totale) avec `xarray`, cependant...**"
   ]
  },
  {
   "cell_type": "code",
   "execution_count": null,
   "id": "53bfff4f-9a2a-486a-a89d-44a477612ac5",
   "metadata": {},
   "outputs": [],
   "source": [
    "ds = xr.open_dataset('data_raw/NLDAS/NLDAS_NOAH0125_M.A200808.020.nc')\n",
    "\n",
    "ds['Evap'].attrs"
   ]
  },
  {
   "cell_type": "markdown",
   "id": "fb860609-7556-4dfd-868c-c353a791f81d",
   "metadata": {},
   "source": [
    "**Remarquez que les attributs sont différents !** Les attributs `scale_factor`, `add_offset` et `missing_value` sont absents.\n",
    "\n",
    "**C'est parce que `xarray` transforme automatiquement les valeurs compactées en valeurs réelles pour nous.** Comparez les deux exemples ci-dessous."
   ]
  },
  {
   "cell_type": "code",
   "execution_count": null,
   "id": "cd7c1fa0-176f-4380-9209-ef5d3cbee4d3",
   "metadata": {},
   "outputs": [],
   "source": [
    "np.array(nc['Evap'][:])"
   ]
  },
  {
   "cell_type": "code",
   "execution_count": null,
   "id": "aec4e8c7-4d0b-4f3a-85d5-ff44bb342999",
   "metadata": {},
   "outputs": [],
   "source": [
    "np.array(ds['Evap'][:])"
   ]
  },
  {
   "cell_type": "markdown",
   "id": "1ab0c869-d4ad-4c76-b7a6-cd0ad40e36e3",
   "metadata": {},
   "source": [
    "**Dans ce cas, le `scale_factor` est `1.0` et le `add_offset` est `0.0`, ce qui signifie que les valeurs compactées sont identiques aux valeurs réelles.** Par conséquent, il n'y a pas de différence dans les nombres pour les zones de données valides ci-dessus ; mais nous pouvons voir que le `xarray.Dataset` a remplacé la `missing_value` (-9999) par `np.nan`."
   ]
  },
  {
   "cell_type": "markdown",
   "id": "ca3eea39-9872-42ce-be6e-958c471bee12",
   "metadata": {},
   "source": [
    "### Tracer les variables netCDF4\n",
    "\n",
    "Traçons les données du premier jeu de données mensuel (août 2008). **Rappelez-vous que, lors de l'utilisation de `pyplot.imshow()`, nous devons fournir un tableau 2D...**"
   ]
  },
  {
   "cell_type": "code",
   "execution_count": null,
   "id": "c4a17ca7-9a8c-4cb6-8068-55338d46db28",
   "metadata": {},
   "outputs": [],
   "source": [
    "et = nc['Evap']\n",
    "\n",
    "et.shape"
   ]
  },
  {
   "cell_type": "markdown",
   "id": "3ab8d8b5-7d87-4464-93b4-69ce51a1f90b",
   "metadata": {},
   "source": [
    "Le premier axe de notre tableau `et` est trivial, car il ne contient qu'un seul élément. Nous pouvons simplement sous-ensemble le tableau `et` à cet élément \"premier\" (et unique) en utilisant `et[0]` :"
   ]
  },
  {
   "cell_type": "code",
   "execution_count": null,
   "id": "23c0e2bd-12db-432f-af8c-f684d98b73a8",
   "metadata": {},
   "outputs": [],
   "source": [
    "pyplot.imshow(et[0])"
   ]
  },
  {
   "cell_type": "markdown",
   "id": "76f917ad-80e6-4c06-9fd1-904cd3bce7ee",
   "metadata": {},
   "source": [
    "#### &#x1F6A9; <span style=\"color:red\">Attention</red>\n",
    "\n",
    "**Cela semble-t-il correct ? Pourquoi est-ce à l'envers ?**\n",
    "\n",
    "La raison est due à [la convention CF](http://cfconventions.org/) qui définit comment les fichiers netCDF4 doivent être formatés. Une partie de cette norme exige que les tableaux de coordonnées (ici, les tableaux de latitude et de longitude) soient triés du plus petit nombre au plus grand nombre. **Alors que les systèmes de coordonnées spatiales comme la latitude-longitude ont des nombres qui augmentent de bas en haut et de gauche à droite, les systèmes de coordonnées d'image (pour les tableaux) diffèrent en ce que les nombres augmentent de haut en bas :**\n",
    "\n",
    "![](assets/coordinate-system-diagram.png)\n",
    "\n",
    "Lorsqu'on travaille avec un système de coordonnées utilisant la latitude, cela signifie que les coordonnées verticales vont de la latitude la plus au sud (négative) à la latitude la plus au nord (positive). **En gros, l'image est retournée à l'envers car les coordonnées les plus négatives se trouvent en haut de l'image.** Nous pouvons facilement retourner un tableau à l'endroit en utilisant `np.flipud()` (\"retourner à l'envers\") :"
   ]
  },
  {
   "cell_type": "code",
   "execution_count": null,
   "id": "6a8dd59c-b288-41c3-818c-2039cda5c1d5",
   "metadata": {},
   "outputs": [],
   "source": [
    "pyplot.imshow(np.flipud(et[0]))"
   ]
  },
  {
   "cell_type": "code",
   "execution_count": null,
   "id": "087afd3f-99d7-45f0-8454-518ca4eb479d",
   "metadata": {},
   "outputs": [],
   "source": [
    "type(et)"
   ]
  },
  {
   "cell_type": "markdown",
   "id": "e421aff6-d5a5-41ed-8e2a-58000e89776f",
   "metadata": {},
   "source": [
    "---\n",
    "\n",
    "## Ouvrir plusieurs fichiers avec `xarray`"
   ]
  },
  {
   "cell_type": "markdown",
   "id": "c18a0d0f-ef43-4531-9b05-8f73444fa61b",
   "metadata": {},
   "source": [
    "Revenons maintenant à `xarray`.\n",
    "\n",
    "**Encore une fois, nous avons plusieurs fichiers représentant différents points dans le temps.** Au lieu d'écrire une boucle `for`, cette fois nous allons utiliser `open_mfdataset()` (\"ouvrir un jeu de données multi-fichier\") pour collecter tous les fichiers en un seul jeu de données.\n",
    "\n",
    "La chaîne `'data_raw/NLDAS/*.nc'` décrit où les fichiers que nous voulons ouvrir sont situés, où `*` est un caractère générique : un symbole correspondant à un nombre quelconque de caractères présents dans un nom de fichier. Dans ce cas, nous voulons ouvrir *tous* les fichiers netCDF (`*.nc`) dans le répertoire `data_raw/NLDAS` qui contiennent le mot `\"NOAH\"`."
   ]
  },
  {
   "cell_type": "code",
   "execution_count": null,
   "id": "19f86436-943d-4e04-afb4-eef26b55efca",
   "metadata": {},
   "outputs": [],
   "source": [
    "# Ouvrir tous les fichiers comme un seul jeu de données xarray\n",
    "ds = xr.open_mfdataset('data_raw/NLDAS/*NOAH*.nc')\n",
    "ds"
   ]
  },
  {
   "cell_type": "markdown",
   "id": "1c4da220-aaf2-4eac-8590-db8ff4fbb46f",
   "metadata": {},
   "source": [
    "**Ces fichiers NLDAS contiennent plusieurs variables différentes...**"
   ]
  },
  {
   "cell_type": "code",
   "execution_count": null,
   "id": "c8a9269f-b60c-4e56-8dbd-f60b5a8c24df",
   "metadata": {},
   "outputs": [],
   "source": [
    "list(ds.variables.keys())"
   ]
  },
  {
   "cell_type": "markdown",
   "id": "14855d40-79e6-4aa2-872e-76c4ec5afff7",
   "metadata": {},
   "source": [
    "**Dans cette étude de cas, nous nous intéressons principalement aux variables qui quantifient l'état du cycle de l'eau ou le stress évaporatif :**\n",
    "\n",
    "- `Evap` : Il s'agit de l'évapotranspiration totale\n",
    "- `SWdown` : Radiation à ondes courtes descendante, c'est-à-dire la quantité de radiation solaire dirigée vers le bas\n",
    "- `SMAvail_0_100cm` : La quantité totale d'eau liquide dans les 100 cm supérieurs du sol"
   ]
  },
  {
   "cell_type": "markdown",
   "id": "6a94adc4-98f7-4f1f-99f7-64043d40aac3",
   "metadata": {},
   "source": [
    "Nous avons maintenant vu l'un des grands avantages de la bibliothèque `xarray` : `xarray` sait déjà comment les variables netCDF doivent être affichées. Il est capable de déterminer, en fonction des coordonnées, comment l'image doit être orientée.\n",
    "\n",
    "Ci-dessous, comme notre jeu de données, `ds`, contient plus d'une étape temporelle, nous utilisons la notation `ds['Evap'][0]` pour sous-ensemble les données à la première étape temporelle (zéro)."
   ]
  },
  {
   "cell_type": "code",
   "execution_count": null,
   "id": "aec11f90-a768-41e4-85ed-016a32382805",
   "metadata": {},
   "outputs": [],
   "source": [
    "# Tracer la première image de la série temporelle\n",
    "ds['Evap'][0].plot()"
   ]
  },
  {
   "cell_type": "markdown",
   "id": "b094b6e3-21c6-43a2-8257-6d998d4843c3",
   "metadata": {},
   "source": [
    "---\n",
    "\n",
    "## Calculer une climatologie\n",
    "\n",
    "**Qu'est-ce qui distingue une sécheresse éclair ou toute sécheresse des conditions non-sécheresse ?** Nous savons que la sécheresse se caractérise par une précipitation réduite, une humidité du sol réduite, ou les deux, mais quelle est l'ampleur de la réduction ? Pour répondre à cette question, nous devrions comparer les \"conditions de sécheresse\" aux \"conditions moyennes\". C'est-à-dire, par rapport à une *moyenne à long terme,* quelle est l'ampleur du changement d'une condition météorologique, comme les précipitations mensuelles ?\n",
    "\n",
    "La *moyenne à long terme* d'une variable climatique, calculée pour un intervalle récurrent (jours, mois, années), est appelée une **climatologie.** Dans cette étude de cas, nous nous intéressons à la gravité des conditions de sécheresse d'août 2017. Nous pourrions quantifier cela en calculant une climatologie de l'évapotranspiration (ET) d'août, qui est la moyenne de l'ET d'août sur une longue période de référence.\n",
    "\n",
    "Dans ce cas, nous avons 10 ans de données mensuelles d'août sur l'ET, comme indiqué par le premier axe de notre tableau :"
   ]
  },
  {
   "cell_type": "code",
   "execution_count": null,
   "id": "0b5f516f-c651-4c2a-8a2e-77096275536d",
   "metadata": {},
   "outputs": [],
   "source": [
    "ds['Evap'].shape"
   ]
  },
  {
   "cell_type": "markdown",
   "id": "4d77700e-4080-4276-9213-0afc7265493f",
   "metadata": {},
   "source": [
    "Calculer une climatologie est donc aussi simple que d'appeler `mean()` sur notre tableau et de faire la moyenne sur l'axe `'time'` :"
   ]
  },
  {
   "cell_type": "code",
   "execution_count": null,
   "id": "16034944-d6bd-4f1f-87c8-03be26e45595",
   "metadata": {},
   "outputs": [],
   "source": [
    "et_clim = ds['Evap'].mean('time')\n",
    "et_clim.shape"
   ]
  },
  {
   "cell_type": "code",
   "execution_count": null,
   "id": "ed2949fe-b779-4009-8b26-52e807693bec",
   "metadata": {},
   "outputs": [],
   "source": [
    "# REMARQUE : Nous retournons le tableau et_clim à l'envers en raison de la convention CF\n",
    "pyplot.imshow(np.flipud(et_clim))\n",
    "cbar = pyplot.colorbar()\n",
    "cbar.set_label('Evapotranspiration [kg m-2]')\n",
    "pyplot.title('ET moyenne d\'août')\n",
    "pyplot.show()"
   ]
  },
  {
   "cell_type": "markdown",
   "id": "3778d73f-1c62-45d4-99fa-650972f0a9c4",
   "metadata": {},
   "source": [
    "### Décrire les extrêmes climatiques à l'aide des anomalies\n",
    "\n",
    "Pour savoir à quel point l'ET d'août 2017 était plus faible, nous voulons soustraire la climatologie de l'ET d'août 2017, supprimant ainsi efficacement l'ET moyenne et ne montrant que les écarts (au-dessus ou en dessous) de la moyenne.\n",
    "\n",
    "Lorsque nous soustrayons la moyenne d'une série chronologique, le résultat est souvent appelé **anomalie** (écart par rapport à la moyenne)."
   ]
  },
  {
   "cell_type": "code",
   "execution_count": null,
   "id": "a76515bd-32a7-4a9e-9335-43566d6e19ca",
   "metadata": {},
   "outputs": [],
   "source": [
    "et_2017_anomaly = ds['Evap'][-1] - et_clim\n",
    "\n",
    "pyplot.imshow(np.flipud(et_2017_anomaly), cmap = 'RdYlBu')\n",
    "cbar = pyplot.colorbar()\n",
    "cbar.set_label('Anomalie de l\'évapotranspiration [kg m-2]')\n",
    "pyplot.title('Anomalie ET d\'août 2017')\n",
    "pyplot.show()"
   ]
  },
  {
   "cell_type": "markdown",
   "id": "ff7fe09f-76f6-4969-85ce-ad1726c7ef5b",
   "metadata": {},
   "source": [
    "Nous pouvons calculer les anomalies pour *chaque année* en écrivant simplement :"
   ]
  },
  {
   "cell_type": "code",
   "execution_count": null,
   "id": "592df46b-5667-4ebc-b015-2142b21afbd3",
   "metadata": {},
   "outputs": [],
   "source": [
    "et_anomaly = ds['Evap'] - et_clim\n",
    "et_anomaly.shape"
   ]
  },
  {
   "cell_type": "markdown",
   "id": "3132ea5f-062f-4255-bdd0-0946953410cd",
   "metadata": {},
   "source": [
    "#### Utiliser `cartopy`\n",
    "\n",
    "Encore une fois, il peut être utile d'utiliser `cartopy` pour voir nos données dans leur contexte. Dans cet exemple, nous utilisons le support intégré de `cartopy` pour [les données de Natural Earth](https://www.naturalearthdata.com/) afin de voir les limites des États américains au-dessus de notre image."
   ]
  },
  {
   "cell_type": "code",
   "execution_count": null,
   "id": "6d69040f-e17b-4168-bea9-b703014e1f71",
   "metadata": {},
   "outputs": [],
   "source": [
    "extent = [\n",
    "    ds['lon'].to_numpy().min(),\n",
    "    ds['lon'].to_numpy().max(),\n",
    "    ds['lat'].to_numpy().min(),\n",
    "    ds['lat'].to_numpy().max()\n",
    "]\n",
    "extent"
   ]
  },
  {
   "cell_type": "code",
   "execution_count": null,
   "id": "ae6f587d-58fb-4e91-a9e4-4f895f00047f",
   "metadata": {},
   "outputs": [],
   "source": [
    "import cartopy.crs as ccrs\n",
    "import cartopy.io.shapereader as shpreader\n",
    "\n",
    "shapename = 'admin_1_states_provinces_lakes'\n",
    "states_shp = shpreader.natural_earth(resolution = '110m', category = 'cultural', name = shapename)\n",
    "\n",
    "fig = pyplot.figure()\n",
    "ax = fig.add_subplot(1, 1, 1, projection = ccrs.PlateCarree())\n",
    "ax.imshow(np.flipud(et_2017_anomaly), extent = extent, cmap = 'RdYlBu')\n",
    "ax.add_geometries(shpreader.Reader(states_shp).geometries(), ccrs.PlateCarree(), facecolor = 'none')\n",
    "pyplot.show()"
   ]
  },
  {
   "cell_type": "markdown",
   "id": "1d149745-03e3-414a-bfe6-bc57e1eb916e",
   "metadata": {},
   "source": [
    "---\n",
    "\n",
    "## Écrire du code réutilisable et de la documentation"
   ]
  },
  {
   "cell_type": "markdown",
   "id": "078bed11-92ea-4585-b7d3-1a17a7761296",
   "metadata": {},
   "source": [
    "Il semble que le mois d'août 2017 ait été caractérisé par des taux d'évapotranspiration (ET) anormalement bas dans les Grandes Plaines du Nord. Qu'en est-il des autres variables climatiques ?\n",
    "\n",
    "Nous avons fait beaucoup de travail pour créer le graphique d'anomalie de l'ET. Existe-t-il un moyen d'appliquer facilement le même flux de travail à nos autres variables climatiques ?\n",
    "\n",
    "**C'est pour cela que nous créons des fonctions Python : pour automatiser une tâche de manière cohérente.** Créons une fonction pour notre flux de travail actuel."
   ]
  },
  {
   "cell_type": "code",
   "execution_count": null,
   "id": "e50353d6-6bb7-49db-8253-927edee9c7f7",
   "metadata": {},
   "outputs": [],
   "source": [
    "def calculate_anomaly(data):\n",
    "    '''\n",
    "    Calcule l'anomalie dans un jeu de données de série temporelle à long terme.\n",
    "\n",
    "    Paramètres\n",
    "    ----------\n",
    "    data : xarray.DataArray\n",
    "        Les données de série temporelle, un tableau (T x M x N) où T est le \n",
    "        nombre d'étapes temporelles\n",
    "\n",
    "    Renvoie\n",
    "    -------\n",
    "    xarray.DataArray\n",
    "        Les valeurs d'anomalie\n",
    "    '''\n",
    "    clim = data.mean('time')\n",
    "    # Créer une séquence de cartes 2D, une pour chaque année\n",
    "    return data - clim"
   ]
  },
  {
   "cell_type": "markdown",
   "id": "63f5ba98-72a4-49a1-b0a9-db12e0a7d736",
   "metadata": {},
   "source": [
    "**La chaîne de caractères multi-lignes Python (commençant par trois caractères de guillemets, `'''`) marque le début d'une *docstring* ou chaîne de documentation Python.** La docstring doit immédiatement suivre la première ligne de la définition de la fonction.\n",
    "\n",
    "La docstring est ce que les utilisateurs voient lorsqu'ils appellent `help()` sur votre fonction :"
   ]
  },
  {
   "cell_type": "code",
   "execution_count": null,
   "id": "4a9b106e-c301-4520-81c2-fde2852812c7",
   "metadata": {},
   "outputs": [],
   "source": [
    "help(calculate_anomaly)"
   ]
  },
  {
   "cell_type": "markdown",
   "id": "2276e275-fab0-487c-a446-59999e66a8ed",
   "metadata": {},
   "source": [
    "#### &#x1F3AF; Bonne pratique\n",
    "\n",
    "**Une bonne docstring indique à l'utilisateur :**\n",
    "\n",
    "- L'objectif de la fonction ; dans notre exemple, la fonction \"Génère une série temporelle pour une variable donnée...\"\n",
    "- Quels *paramètres* d'entrée (arguments) la fonction accepte.\n",
    "- Quelle est la *valeur de retour* de la fonction.\n",
    "\n",
    "Elle peut également inclure un ou plusieurs exemples d'utilisation. Le format de la docstring \"Paramètres\" et \"Valeur de retour\" est basé sur une convention (\"numpydoc\") et [vous pouvez en lire plus sur cette convention et des alternatives à cette référence.](https://pdoc3.github.io/pdoc/doc/pdoc/#supported-docstring-formats) Sous la rubrique \"Paramètres\", nous indiquons le nom d'un paramètre d'entrée, son ou ses type(s) et une brève explication de ce que cela signifie :\n",
    "\n",
    "```\n",
    "Paramètres\n",
    "----------\n",
    "nom_param : type\n",
    "    Indenté de 4 espaces, nous décrivons le paramètre d'entrée sur la ligne suivante\n",
    "```\n",
    "\n",
    "La rubrique \"Retours\" est formatée de manière similaire, sauf que la valeur de retour n'a pas de nom :\n",
    "\n",
    "```\n",
    "Retours\n",
    "-------\n",
    "type\n",
    "    Indenté de 4 espaces, nous décrivons le paramètre de sortie\n",
    "```"
   ]
  },
  {
   "cell_type": "markdown",
   "id": "a3433a06-45a1-43df-bbc1-ac9ff13a1d2f",
   "metadata": {},
   "source": [
    "**Le plus important, notre fonction Python fonctionne-t-elle comme nous l'attendions ?**"
   ]
  },
  {
   "cell_type": "code",
   "execution_count": null,
   "id": "18ce74ca-5462-4d6a-acbd-22eb7a2385c3",
   "metadata": {},
   "outputs": [],
   "source": [
    "et_anomaly = calculate_anomaly(ds['Evap'])\n",
    "pyplot.imshow(np.flipud(et_anomaly[-1]), cmap = 'RdYlBu')"
   ]
  },
  {
   "cell_type": "markdown",
   "id": "055a82c5-5681-4358-b0e2-5fdeba96665f",
   "metadata": {},
   "source": [
    "### Répéter notre analyse des données climatiques\n",
    "\n",
    "**Une fois que nous avons écrit des fonctions Python réutilisables comme celle-ci, nous pouvons commencer à intensifier notre analyse de nouvelles façons !**"
   ]
  },
  {
   "cell_type": "code",
   "execution_count": null,
   "id": "113d2153-a470-4353-a460-8ebe3cbacb7a",
   "metadata": {},
   "outputs": [],
   "source": [
    "rad_anomaly = calculate_anomaly(ds['SWdown'])\n",
    "sm_anomaly = calculate_anomaly(ds['SMAvail_0_100cm'])"
   ]
  },
  {
   "cell_type": "markdown",
   "id": "c7ebf2c2-2e78-4875-91e7-2cc212a82ff2",
   "metadata": {},
   "source": [
    "Les mêmes fonctions que nous avons utilisées pour calculer une anomalie de l'ET peuvent être utilisées pour calculer une anomalie pour n'importe quelle variable qui nous intéresse ! À quoi ressemblent les anomalies du rayonnement solaire (`\"SWdown\"`) et de l'humidité du sol (`\"SMAvail_0_100cm\"`) ?"
   ]
  },
  {
   "cell_type": "code",
   "execution_count": null,
   "id": "14be24e1-4f85-4155-bc9a-9b59a1a071ba",
   "metadata": {},
   "outputs": [],
   "source": [
    "images = [\n",
    "    et_anomaly[-1],\n",
    "    rad_anomaly[-1],\n",
    "    sm_anomaly[-1]\n",
    "]\n",
    "labels = ['ET', 'Radiation', 'Humidité du sol']\n",
    "\n",
    "fig = pyplot.figure(figsize = (12, 5))\n",
    "ax = fig.subplots(1, 3)\n",
    "for i in range(3):\n",
    "    ax[i].imshow(np.flipud(images[i]), cmap = 'RdYlBu')\n",
    "    ax[i].set_title(labels[i] + ' Anomalie')"
   ]
  },
  {
   "cell_type": "markdown",
   "id": "1fb09626-5186-4547-b1c5-74ed46ed24be",
   "metadata": {},
   "source": [
    "--- \n",
    "\n",
    "## Calcul du déficit de pression de vapeur\n",
    "\n",
    "Un aspect du système climatique que nous n'avons pas encore examiné est le **déficit de pression de vapeur (VPD)**, qui est une mesure de la sécheresse de l'air. Le VPD nous indique la quantité d'eau supplémentaire (en termes de pression de vapeur) que l'air pourrait contenir à sa température actuelle. Sous un VPD élevé, l'atmosphère peut agir comme une paille, puisant l'eau de la surface terrestre et des plantes. Le VPD anormalement élevé a-t-il joué un rôle dans la sécheresse éclair des Grandes Plaines du Nord en 2017 ?\n",
    "\n",
    "Le VPD n'est pas disponible en tant que variable climatique dans le jeu de données de réanalyse NLDAS, mais nous pouvons le calculer à partir des variables disponibles. Pour cela, nous devons télécharger une collection de données NLDAS légèrement différente, composée des données de forçage atmosphérique qui alimentent le modèle."
   ]
  },
  {
   "cell_type": "code",
   "execution_count": null,
   "id": "d181ac3e-a9d3-4cae-a903-a0244980fc60",
   "metadata": {},
   "outputs": [],
   "source": [
    "results = []\n",
    "# Obtenir les données d'août pour chaque année de 2008 jusqu'à (mais sans inclure) 2018\n",
    "for year in range(2008, 2018):\n",
    "    search = earthaccess.search_data(\n",
    "        short_name = 'NLDAS_FORA0125_M',\n",
    "        version = '2.0',\n",
    "        temporal = (f'{year}-08', f'{year}-08'))\n",
    "    results.extend(search)"
   ]
  },
  {
   "cell_type": "code",
   "execution_count": null,
   "id": "65ec2fb8-810c-47ea-80dd-1410cd65dcc3",
   "metadata": {},
   "outputs": [],
   "source": [
    "earthaccess.download(results, 'data_raw/NLDAS')"
   ]
  },
  {
   "cell_type": "markdown",
   "id": "f84897fb-4873-488f-9b69-6b45ab3f4370",
   "metadata": {},
   "source": [
    "Encore une fois, nous voulons ouvrir plusieurs fichiers en tant que `xarray.Dataset` unique en utilisant `open_mfdataset()`."
   ]
  },
  {
   "cell_type": "code",
   "execution_count": null,
   "id": "b6926bd1-2e59-4fb3-a06c-1b8ed8dbf3ae",
   "metadata": {},
   "outputs": [],
   "source": [
    "ds = xr.open_mfdataset('data_raw/NLDAS/NLDAS_FORA*.nc')\n",
    "ds"
   ]
  },
  {
   "cell_type": "markdown",
   "id": "360342e9-b690-4fc9-8753-f59967348cf9",
   "metadata": {},
   "source": [
    "Les données NLDAS que nous avons téléchargées contiennent trois variables qui nous intéressent :\n",
    "\n",
    "- `Tair`, la température de l'air en degrés Kelvin\n",
    "- `Qair`, l'humidité spécifique\n",
    "- `PSurf`, la pression de l'air près de la surface en Pascals"
   ]
  },
  {
   "attachments": {},
   "cell_type": "markdown",
   "id": "2eea2c68-f336-4a86-9358-d1ed98807686",
   "metadata": {},
   "source": [
    "### &#x1F3C1; Défi : Écrivez une fonction pour calculer le VPD\n",
    "\n",
    "Le VPD est défini comme la différence entre la pression de vapeur saturante (SVP) et la pression de vapeur réelle (AVP). C'est-à-dire, c'est la différence entre la quantité d'eau que l'air *pourrait* contenir à sa température actuelle et la quantité réelle d'eau qu'il contient actuellement.\n",
    "$$\n",
    "\\text{VPD} = \\text{SVP} - \\text{AVP}\n",
    "$$\n",
    "\n",
    "La formule d'August-Roche-Magnus est une bonne approximation pour la SVP :\n",
    "\n",
    "$$\n",
    "\\text{SVP} = 610.94\\times \\text{exp}\\left(\n",
    "\\frac{17.625\\times T}{T + 243.04}\n",
    "\\right)\n",
    "$$\n",
    "\n",
    "Et une approximation pour l'AVP est donnée par Gates (1980, *Biophysical Ecology*) :\n",
    "\n",
    "$$\n",
    "\\text{AVP} = \\frac{Q\\times P}{0.622 + (0.379\\times Q)}\n",
    "$$\n",
    "\n",
    "Où :\n",
    "\n",
    "- $T$ est la température de l'air en degrés Kelvin\n",
    "- $Q$ est l'humidité spécifique\n",
    "- $P$ est la pression de l'air en Pascals\n",
    "- Le VPD, SVP et AVP sont également en Pascals\n",
    "- $\\text{exp}$ se réfère à la fonction exponentielle et est disponible dans NumPy en tant que `np.exp()`\n",
    "\n",
    "**Écrivez une fonction Python appelée `vpd()` pour calculer le VPD.** Lorsque vous écrivez votre fonction, rappelez-vous :\n",
    "\n",
    "- Écrivez une docstring informative !\n",
    "- Assurez-vous d'ajouter des commentaires en ligne pour décrire le code complexe ou potentiellement déroutant.\n",
    "- Réfléchissez à la manière dont vos noms de variables doivent être choisis et comment vous pourriez les utiliser pour communiquer les unités de mesure.\n",
    "\n",
    "**Astuce :** Vous devrez convertir la température de l'air de degrés Kelvin en degrés Celsius en soustrayant 273.15.\n",
    "\n",
    "**Lorsque vous aurez terminé, comparez-la à celle écrite ci-dessous (cliquez pour développer).**"
   ]
  },
  {
   "cell_type": "code",
   "execution_count": null,
   "id": "17942f63-42de-4f9f-87fb-ac66c07a8253",
   "metadata": {
    "jupyter": {
     "source_hidden": true
    }
   },
   "outputs": [],
   "source": [
    "def vpd(temp_k, pressure_pa, s_humidity):\n",
    "    '''\n",
    "    Calcule le déficit de pression de vapeur (VPD).\n",
    "    \n",
    "    Paramètres\n",
    "    ----------\n",
    "    temp_c : xarray.DataArray\n",
    "        Température de l'air en degrés Kelvin\n",
    "    pressure_pa : xarray.DataArray\n",
    "        Pression de l'air en Pascals\n",
    "    s_humidity : xarray.DataArray\n",
    "        Humidité spécifique (sans dimension)\n",
    "\n",
    "    Renvoie\n",
    "    -------\n",
    "    xarray.DataArray\n",
    "        VPD en Pascals\n",
    "    '''\n",
    "    temp_c = temp_k - 273.15\n",
    "    # Pression de vapeur saturante (Pa)\n",
    "    svp = 610.94 * np.exp((17.625 * temp_c) / (temp_c + 243.04))\n",
    "    # Pression de vapeur réelle (Pa)\n",
    "    avp = (s_humidity * pressure_pa) / (0.622 + (0.379 * s_humidity))\n",
    "    return svp - avp"
   ]
  },
  {
   "cell_type": "markdown",
   "id": "a67872e3-2180-465e-848c-f48bb18ec095",
   "metadata": {},
   "source": [
    "---\n",
    "\n",
    "Maintenant que vous avez écrit une fonction pour calculer le VPD, appliquons-la à nos données NLDAS."
   ]
  },
  {
   "cell_type": "code",
   "execution_count": null,
   "id": "54261fe6-0b9e-4b44-99d2-0b07205be586",
   "metadata": {},
   "outputs": [],
   "source": [
    "vpd_series = vpd(ds['Tair'], ds['PSurf'], ds['Qair'])\n",
    "\n",
    "vpd_anomaly = calculate_anomaly(vpd_series)"
   ]
  },
  {
   "cell_type": "markdown",
   "id": "8e4639e6-d3cd-47f2-abd7-0f06038b68cd",
   "metadata": {},
   "source": [
    "D'après le graphique ci-dessous, il semble que seule une partie des Grandes Plaines du Nord ait connu un VPD supérieur à la moyenne en août 2017."
   ]
  },
  {
   "cell_type": "code",
   "execution_count": null,
   "id": "d8447780-7792-4189-97bc-07e665cfd84a",
   "metadata": {},
   "outputs": [],
   "source": [
    "pyplot.imshow(np.flipud(vpd_anomaly[-1]), cmap = 'RdYlBu')\n",
    "cbar = pyplot.colorbar()\n",
    "cbar.set_label('Anomalie de VPD (Pa)')\n",
    "pyplot.title('Anomalie VPD d\'août 2017')\n",
    "pyplot.show()"
   ]
  },
  {
   "attachments": {},
   "cell_type": "markdown",
   "id": "d07cdaef-4638-4714-8cab-1245d82c7e55",
   "metadata": {},
   "source": [
    "### Sauvegarder nos résultats\n",
    "\n",
    "Nous avons fait beaucoup de travail intéressant avec les données NLDAS. Et si nous voulions enregistrer nos résultats pour qu'une autre personne puisse les utiliser ? Quelles informations devraient-elles connaître sur ce que nous avons fait, et comment pourrions-nous communiquer cela ?\n",
    "\n",
    "C'est là qu'un format de fichier **auto-documenté** comme netCDF peut être utile !\n",
    "\n",
    "#### &#x1F3AF; Bonne pratique\n",
    "\n",
    "À partir de notre `xarray.DataArray`, ajoutons des **métadonnées** sous forme d'**attributs.** Quelles sont les informations importantes que les gens devraient connaître à propos de ces données ? Les unités de mesure sont évidemment importantes."
   ]
  },
  {
   "cell_type": "code",
   "execution_count": null,
   "id": "8cf73486-360a-4704-a12c-c467dd9df397",
   "metadata": {},
   "outputs": [],
   "source": [
    "vpd_anomaly.attrs['units'] = 'Pascals'\n",
    "vpd_anomaly.attrs['name'] = 'Anomalie du déficit de pression de vapeur, relative à la climatologie 2008-2017'\n",
    "vpd_anomaly"
   ]
  },
  {
   "cell_type": "markdown",
   "id": "e74482dc-41f8-4d9f-8895-bccb08627042",
   "metadata": {},
   "source": [
    "Nous sommes maintenant prêts à créer notre nouveau `xarray.Dataset` !\n",
    "\n",
    "La fonction constructeur `xr.Dataset()` prend au moins deux arguments :\n",
    "\n",
    "- Les variables de données, généralement sous la forme d'un dictionnaire Python avec des paires clé-valeur représentant le nom de la variable (clé) et le `DataArray` (valeur).\n",
    "- Les coordonnées du `DataArray`."
   ]
  },
  {
   "cell_type": "code",
   "execution_count": null,
   "id": "9546cebe-d42b-4d06-8a94-b1ba5221ae52",
   "metadata": {},
   "outputs": [],
   "source": [
    "new_ds = xr.Dataset({'vpd_anomaly': vpd_anomaly}, ds.coords)\n",
    "new_ds"
   ]
  },
  {
   "cell_type": "markdown",
   "id": "6b53a991-2f2a-462c-b520-7d78e785f0cd",
   "metadata": {},
   "source": [
    "Nous pouvons également ajouter quelques **attributs au niveau du fichier.** Si jamais nous voulions modifier quelque chose dans ce jeu de données, nous pourrions vouloir savoir quel script Python a été utilisé pour le créer en premier lieu."
   ]
  },
  {
   "cell_type": "code",
   "execution_count": null,
   "id": "99a24861-55c2-4036-93f1-3d7212929eb6",
   "metadata": {},
   "outputs": [],
   "source": [
    "new_ds.attrs['source_file'] = 'CaseStudy_2017_Northern_Plains_Flash_Drought.ipynb'\n",
    "new_ds"
   ]
  },
  {
   "cell_type": "markdown",
   "id": "7c920752-832a-4d63-9801-ece1b88737f5",
   "metadata": {},
   "source": [
    "#### &#x1F3AF; Bonne pratique\n",
    "\n",
    "**Enfin, nous sommes prêts à écrire notre fichier sur le disque ! Mais quel nom de fichier devrions-nous choisir ?** Pour les résultats dérivés, nous devrions choisir un nom *significatif* qui nous donne des informations sur :\n",
    "\n",
    "- Le type de données que le fichier contient\n",
    "- Les emplacements spatiaux ou les périodes temporelles auxquels il se rapporte\n",
    "- Les données sources utilisées\n",
    "\n",
    "Nous nous assurerons également de mettre le fichier dans notre dossier `outputs` afin de ne pas le confondre avec des données brutes."
   ]
  },
  {
   "cell_type": "code",
   "execution_count": null,
   "id": "5a70073e-7912-4fbc-a4c9-e7dfc81b2570",
   "metadata": {},
   "outputs": [],
   "source": [
    "new_ds.to_netcdf('outputs/NLDAS_VPD_anomalies_2008-2017.nc')"
   ]
  },
  {
   "cell_type": "markdown",
   "id": "d70f04ad-61cd-40c5-8db1-a218161b48ee",
   "metadata": {},
   "source": [
    "---\n",
    "\n",
    "### Ressources supplémentaires\n",
    "\n",
    "- Curieux de savoir comment utiliser `earthaccess.open()` avec `xarray` afin de ne pas conserver les fichiers téléchargés ? Eh bien, `xarray.open_dataset()` peut être lent lorsque vous avez beaucoup de fichiers à ouvrir, comme dans cet exemple de série chronologique. [Cet article décrit comment vous pouvez accélérer `xarray.open_dataset()`](https://climate-cms.org/posts/2018-09-14-dask-era-interim.html) lorsque vous travaillez avec plusieurs fichiers hébergés sur le cloud."
   ]
  },
  {
   "cell_type": "markdown",
   "id": "db7ae193-7a05-4bde-8264-209483e74743",
   "metadata": {},
   "source": [
    "### Références\n",
    "\n",
    "- Chen, L. G., J. Gottschalck, A. Hartman, D. Miskus, R. Tinker, et A. Artusa. 2019. Caractéristiques de la sécheresse éclair basée sur le U.S. Drought Monitor. Atmosphère 10 (9):498.\n",
    "- He, M., J. S. Kimball, Y. Yi, S. W. Running, K. Guan, K. Jensco, B. Maxwell, et M. Maneta. 2019. Impacts de la sécheresse éclair de 2017 dans les Grandes Plaines du Nord des États-Unis, informés par l'évapotranspiration basée sur satellite et la fluorescence induite par la lumière solaire. Lettres de recherche environnementale 14 (7):074019."
   ]
  }
 ],
 "metadata": {
  "kernelspec": {
   "display_name": "Python 3 (ipykernel)",
   "language": "python",
   "name": "python3"
  },
  "language_info": {
   "codemirror_mode": {
    "name": "ipython",
    "version": 3
   },
   "file_extension": ".py",
   "mimetype": "text/x-python",
   "name": "python",
   "nbconvert_exporter": "python",
   "pygments_lexer": "ipython3",
   "version": "3.10.12"
  }
 },
 "nbformat": 4,
 "nbformat_minor": 5
}

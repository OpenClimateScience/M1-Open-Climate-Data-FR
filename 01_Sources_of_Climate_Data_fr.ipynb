{
 "cells": [
  {
   "cell_type": "markdown",
   "id": "a8f16d56-6db9-4ce7-9f72-3661bfa296b9",
   "metadata": {},
   "source": [
    "# M1.1 - Sources de données climatiques\r\n",
    "\r\n",
    "*Partie de:* [**Open Climate Data**](https://github.com/OpenClimateScience/M1-Open-Climate-Data) | **Leçon précédente** | **Leçon suivante**"
   ]
  },
  {
   "cell_type": "markdown",
   "id": "dda11cf2-12f8-4263-8441-58b0d2f8880e",
   "metadata": {},
   "source": [
    "**Contenu:**\n",
    "\n",
    "1. [Météo versus Climat](#Météo-versus-Climat)\n",
    "2. [Problèmes de Collecte des Données Climatiques](#Issues-with-climate-data-collection)\n",
    "3. [Capteurs et Stations au Sol](#Sensors-and-ground-stations)\n",
    "4. [Interpolation des Données des Stations](#Interpolating-station-data)\n",
    "\n",
    "    "
   ]
  },
  {
   "cell_type": "markdown",
   "id": "750cb9e0-493f-4ff0-b28f-717882d0bb14",
   "metadata": {},
   "source": [
    "## Météo versus Climat\n",
    "\n",
    "Nous entendons souvent les mots \"météo\" et \"climat\" utilisés de manière interchangeable. Pour clarifier :\n",
    "\n",
    "- **Météo** refers to les conditions atmosphériques actuelles, généralement à l'échelle horaire ou quotidienne. For example, the weather \"this afternoon\" might include the hourly rainfall rate or mean temperature. The weather \"yesterday\" might include the total daily rainfall amount, daily maximum temperature, or daily hours of sunshine.\n",
    "\n",
    "- **Climat** refers to le modèle dominant à long terme des conditions atmosphériques. For example, the average annual rainfall amount describes how much rainfall you can *typically expect* to get in a year. Descriptions of climate are always based on a fixed time period, whether it is specified or not. When we talk about the mean monthly temperature, for example, this must be based on a reference time period, such as the average over the years 1950 to 2000.\n",
    "\n",
    "**However, in this curriculum, we'll often use the term *\"climate data\"* to refer to both kinds of data, for simplicity.**\n",
    "\n",
    "\n",
    "## Climat variability in agricultural systems\n",
    "\n",
    "The cycling of water and energy are linked throughout earth's climate system because the sun warms the earth's air and surface, drives photosynthesis, and evaporates water. To understand climate impacts on agriculture, we would like to measure the following climate variables:\n",
    "\n",
    "- Air temperature\n",
    "- Surface/ soil temperature\n",
    "- Solar radiation\n",
    "- Precipitation amount\n",
    "- Evapotranspiration\n",
    "- Humidity (or vapor pressure deficit)\n",
    "- Soil moisture\n",
    "\n",
    "In this module, we'll discuss NASA's sensors and models that provide this kind of information across the globe.\n",
    "\n",
    "\n",
    "## Problèmes de Collecte des Données Climatiques\n",
    "\n",
    "**It’s difficult to get climate data for every part of the world at every time.**\n",
    "\n",
    "- We can't put a weather station at every point on the earth. We don't even know for sure how closely spaced the weather stations need to be—it could be different for different applications or different parts of the world.\n",
    "\n",
    "- Similarly, weather stations have limited coverage. Temperature and humidity, for example, can vary over distances as short as a few meters. So any one weather station may only be representative of a small area.\n",
    "\n",
    "- In some regions of the world, weather radar systems are blocked by hills or mountains, limiting their coverage.\n",
    "\n",
    "Because of the data limitations mentioned above but also computational constraints, the data produced by weather models has limited spatial resolution. Sometimes, the model might describe temperature or wind speed for an area that’s much larger than a farmer's field or even larger than a town or administrative district.\n",
    "\n",
    "\n",
    "## Capteurs et Stations au Sol\n",
    "\n",
    "There are many different sources of weather data. In addition to sensors that are installed on ground weather stations, there are multiple airborne and earth-orbiting satellite sensors that provide real-time data on weather conditions. **Consider the different sources of weather (and climate) data in the figure below.**\n",
    "\n",
    "![](./assets/M1_fig_weather_data_sources.jpg)\n",
    "\n",
    "*Image used with permission from the World Meteorological Organization (WMO).*\n",
    "\n",
    "\n",
    "## Interpolation des Données des Stations\n",
    "\n",
    "It's possible to figure out the weather conditions in a location that is hard to reach, provided there is a base station nearby. There are several physical principles that we can use to interpolate the weather conditions at a site based on one or more nearby locations where weather is monitored. **We know that air temperature declines with altitude at a certain rate, based on the humidity (consider the figure below).** \n",
    "\n",
    "We also know that, in mountainous terrain, some areas are shaded for longer than others. Vegetation cover can impact the sensible temperature both because vegetation shades the ground and because, in cold weather, vegetation itself can be a small source of heat. These and other physical factors can help us infer weather conditions at an unmonitored location using a model. This model might be a simple statistical model or a complex physical model.\n",
    "\n",
    "![](./assets/M1_fig_temperature_lapse.png)\n",
    "\n",
    "*Original photograph used with permission from Mr. Djamel S. AKLI (Ath Salem).*"
   ]
  },
  {
   "cell_type": "markdown",
   "id": "22f4bafb-c894-45cd-81e0-b89b7640b0ec",
   "metadata": {},
   "source": [
    "---\n",
    "\n",
    "#### En général, il existe deux façons de faire des prédictions sur les conditions climatiques dans le temps et l'espace : les modèles statistiques et les modèles physiques. Mais avant d’en parler, faisons un peu de pratique avec les ensembles de données climatiques de la NASA"
   ]
  }
 ],
 "metadata": {
  "kernelspec": {
   "display_name": "Python 3 (ipykernel)",
   "language": "python",
   "name": "python3"
  },
  "language_info": {
   "codemirror_mode": {
    "name": "ipython",
    "version": 3
   },
   "file_extension": ".py",
   "mimetype": "text/x-python",
   "name": "python",
   "nbconvert_exporter": "python",
   "pygments_lexer": "ipython3",
   "version": "3.9.5"
  }
 },
 "nbformat": 4,
 "nbformat_minor": 5
}

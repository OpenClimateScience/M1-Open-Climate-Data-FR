{
 "cells": [
  {
   "cell_type": "markdown",
   "id": "242f1f43-4887-4f5e-9740-341f0325f63d",
   "metadata": {},
   "source": [
    "# M1.2 - Introduction à la recherche Earthdata de la NASA et aux données de ré-analyse\n",
    "\n",
    "*Partie de:* [**Données climatiques ouvertes**](https://github.com/OpenClimateScience/M1-Open-Climate-Data) | **Leçon précédente** | **Leçon suivante**"
   ]
  },
  {
   "cell_type": "markdown",
   "id": "9b25df7a-100d-4ee0-8ad9-0171a3f575c8",
   "metadata": {},
   "source": [
    "**Contenu :**\n",
    "\n",
    "- [Créer un compte](#Créer-un-compte)\n",
    "- [Comment utiliser Earthdata Search](#Comment-utiliser-Earthdata-Search)\n",
    "- [Recherche de données](#Recherche-de-données)\n",
    "- [Ensembles de données de ré-analyse](#Ensembles-de-données-de-ré-analyse)\n",
    "- [Données MERRA-2 dans Earthdata Search](#Données-MERRA-2-dans-Earthdata-Search)\n",
    "- [Téléchargement des données MERRA-2](#Téléchargement-des-données-MERRA-2)"
   ]
  },
  {
   "cell_type": "markdown",
   "id": "d8fa99ce-4372-4e9d-86c4-be69293d1676",
   "metadata": {},
   "source": [
    "## Créer un compte\n",
    "\n",
    "Earthdata de la NASA est un référentiel complet de tous les ensembles de données des sciences de la Terre de la NASA. Earthdata Search est le moteur de recherche que nous pouvons utiliser pour explorer ces ensembles de données.\n",
    "\n",
    "- [Inscrivez-vous à un compte Earthdata ici.](https://urs.earthdata.nasa.gov/users/new)"
   ]
  },
  {
   "cell_type": "markdown",
   "id": "67b15d22-0eb9-487f-a855-430e74ce08a2",
   "metadata": {},
   "source": [
    "## Comment utiliser Earthdata Search\n",
    "\n",
    "**Familiarisons-nous avec Earthdata Search en recherchant quelques données climatiques.**\n",
    "\n",
    "Une fois que vous êtes connecté, regardez le panneau de gauche. Sous **\"Filtrer les collections,\"** développez l'en-tête intitulé **\"Mots-clés.\"**\n",
    "\n",
    "![](./assets/M1_screenshot_Earthdata_Search_keywords.png)\n",
    "\n",
    "Ensuite, cochez la case qui indique **\"Indicateurs climatiques.\"**\n",
    "\n",
    "Les choix dans cette section peuvent être écrasants ! Décomposons les informations présentées sur le panneau de droite...\n",
    "\n",
    "- Chaque ensemble de données contient un certain nombre de **granules**, qui est un autre nom pour un fichier de données.\n",
    "- Chaque ensemble de données couvre une certaine période de temps ; par exemple, \"2003-02-03 en cours\" signifie que les données ont été collectées en continu depuis le 3 février 2003.\n",
    "- Certains ensembles de données ont une icône intitulée **\"Earthdata Cloud,\"** ce qui signifie que l'ensemble de données est disponible dans le cloud, sans qu'il soit nécessaire de télécharger les fichiers de données sur votre ordinateur. Nous verrons comment faire cela plus tard dans le programme."
   ]
  },
  {
   "cell_type": "markdown",
   "id": "b07f7513-f8b1-4b20-bf58-d560738f66cb",
   "metadata": {},
   "source": [
    "### Informations sur chaque ensemble de données\n",
    "\n",
    "**Si vous passez la souris sur l'un des ensembles de données dans la moitié droite de ce panneau, une icône d'information (i) apparaîtra.** Voir l'exemple de capture d'écran ci-dessous. **Cliquez sur ce bouton (i).**\n",
    "\n",
    "![](./assets/M1_screenshot_Earthdata_Search_dataset_hovering.png)\n",
    "\n",
    "Il y a beaucoup d'informations importantes ici. Tout d'abord, en haut de cette page d'informations, vous verrez trois cases, comme dans l'exemple suivant :\n",
    "\n",
    "![](./assets/M1_screenshot_Earthdata_Search_info_page.png)\n",
    "\n",
    "- **Un nom court qui identifie de manière unique cet ensemble de données ;** dans cet exemple, c'est : `GRACEADM_CLSM025GL_7D`\n",
    "- **Un numéro de version ;** dans cet exemple, c'est : `Version 3.0`\n",
    "- **Un identifiant d'objet numérique (DOI).** Un DOI est comme l'URL d'un site Web, sauf qu'il peut identifier de manière unique tout type d'information numérique, le plus souvent un ensemble de données. Si vous utilisez un ensemble de données dans votre recherche, vous devez vous assurer de citer le DOI de cet ensemble de données dans toute publication."
   ]
  },
  {
   "cell_type": "markdown",
   "id": "731410f6-a26e-4be7-8efa-e729e8df5c87",
   "metadata": {},
   "source": [
    "---\n",
    "\n",
    "## Recherche de données\n",
    "\n",
    "En plus de parcourir les ensembles de données par domaine thématique (comme \"Indicateurs climatiques\"), nous pouvons rechercher des ensembles de données par nom ou mot-clé, comme lorsque nous utilisons un moteur de recherche Internet.\n",
    "\n",
    "**Tapez \"MERRA-2\" dans la boîte de recherche en haut à gauche de cette page, comme dans la capture d'écran ci-dessous.**\n",
    "\n",
    "![](./assets/M1_screenshot_Earthdata_Search_text_box_search.png)"
   ]
  },
  {
   "cell_type": "markdown",
   "id": "1d7b22c3-3a57-41cd-8164-c756f74393ee",
   "metadata": {},
   "source": [
    "**Pourquoi n'y a-t-il que \"5 collections correspondantes\" ?**\n",
    "\n",
    "**Nous avons oublié de décocher le mot-clé \"Indicateurs climatiques,\" de notre recherche précédente !** Après avoir décoché cette case, il devrait y avoir des centaines de collections disponibles."
   ]
  },
  {
   "cell_type": "markdown",
   "id": "4238fb23-6056-4e15-80bb-fbadf4136929",
   "metadata": {},
   "source": [
    "---\n",
    "\n",
    "## Ensembles de données de ré-analyse\n",
    "\n",
    "Les **ensembles de données de ré-analyse** utilisent l'assimilation de données pour combiner des données historiques au sol avec un modèle de prévision météorologique numérique. Dans l'assimilation de données, le modèle tente d'abord de prédire une certaine condition météorologique (par exemple, le taux de précipitation du 31 août 2020) puis la valeur prédite est comparée à la valeur réelle observée. Si les valeurs prédites sont très différentes, le modèle est ajusté pour produire de meilleures prévisions.\n",
    "\n",
    "![](./assets/M1_fig_re-analysis.png)\n",
    "\n",
    "Le [**Modern-Era Retrospective Analysis for Research and Applications (MERRA-2)**](https://gmao.gsfc.nasa.gov/reanalysis/MERRA-2/) est l'ensemble de données de ré-analyse principal de la NASA. Il intègre des données de multiples plates-formes satellites et stations météorologiques au sol afin de prédire les conditions météorologiques dans le monde entier. Un grand nombre de variables météorologiques différentes sont fournies sur une grille globale cohérente avec une résolution de 0,625 degrés de longitude sur 0,5 degré de latitude. Comme pour d'autres modèles météorologiques, il existe plusieurs couches verticales, correspondant soit à la hauteur relative au-dessus du sol, soit aux niveaux de pression dans l'atmosphère.\n",
    "\n",
    "L'ingestion et le traitement de toutes ces données prennent du temps, de sorte que MERRA-2 a toujours quelques semaines de retard ; ainsi, comme pour d'autres ensembles de données de ré-analyse, MERRA-2 ne doit être utilisé que pour décrire les conditions climatiques actuelles ou historiques.\n",
    "\n",
    "MERRA-2 produit à la fois des produits **instantanés** et **moyennés dans le temps**. Les produits instantanés sont des instantanés des conditions météorologiques actuelles. Par exemple, si la vitesse du vent vers le nord dans un produit instantané toutes les 3 heures est de 2 mètres par seconde, c'était la vitesse du vent simulée par le modèle à ce moment précis, par exemple, 15h00 UTC. Dans un produit moyenné sur 3 heures, par contre, la vitesse du vent à 13h30 UTC serait la moyenne sur les trois heures couvrant ce temps central, par exemple, de 12h00 UTC à 15h00 UTC. Il existe également des produits **moyennés quotidiens** tels que les températures quotidiennes minimales et maximales.\n",
    "\n",
    "De même, les produits de données MERRA-2 peuvent être **2D (bidimensionnels)** ou **3D (tridimensionnels).** Dans le cas 3D, il existe plusieurs grilles latitude-longitude pour différents niveaux verticaux, généralement représentés comme différents niveaux de pression atmosphérique. Les scientifiques agricoles, les agriculteurs et les gestionnaires des terres s'intéresseront probablement davantage aux données 2D, également appelées données **mononiveau (\"slv\")**. Ces produits MERRA-2 sont généralement étiquetés ainsi :\n",
    "\n",
    "```\n",
    "\tinst1_2d_slv_*\n",
    "\tinst3_2d_slv_*\n",
    "```\n",
    "\n",
    "Ci-dessus, `inst` fait référence aux données instantanées horaires ou tri-horaires. Vous pourriez voir à la place des données moyennées dans le temps, étiquetées comme ceci :\n",
    "\n",
    "```\n",
    "\ttavg1_2d_slv_*\n",
    "\ttavg3_2d_slv_*\n",
    "```\n",
    "\n",
    "Où `tavg1` et `tavg3` font référence aux données *moyennées* horaires ou tri-horaires, respectivement. À la place de `slv`, vous pourriez voir un produit étiqueté `rad` pour les données de rayonnement solaire et thermique ou `aer` pour les aérosols ; il existe des versions 2D et 3D de ces produits.\n"
   ]
  },
  {
   "cell_type": "markdown",
   "id": "ac58c4f9-50c7-404a-b943-8690f20fe579",
   "metadata": {},
   "source": [
    "---\n",
    "\n",
    "## Données MERRA-2 dans Earthdata Search\n",
    "\n",
    "Jetons un coup d'œil à certains de ces ensembles de données MERRA-2. Supposons que nous voulions identifier la température minimale quotidienne dans notre zone d'intérêt. D'après la documentation de MERRA-2, nous apprenons que l'ensemble de données que nous voulons s'appelle `statD_2d_slv_Nx`.\n",
    "\n",
    "1. Tapez `\"statD_2d_slv_Nx\"` dans la boîte de recherche en haut à gauche de Earthdata Search.\n",
    "2. Cliquez sur la case qui apparaît dans les résultats (il ne devrait y en avoir qu'une seule).\n",
    "3. Regardez sur le côté gauche, sous \"Filtrer les granules ;\" notez que le seul véritable choix ici est de filtrer les granules par temps. C'est parce que chaque granule MERRA-2 couvre le globe entier, donc le filtrage spatial n'est pas nécessaire. Si nous entrons une date dans la case \"Début\", nous ne verrons que les granules après cette date. Si nous mettons une date dans les cases \"Début\" et \"Fin\", nous ne verrons que les granules entre ces dates.\n",
    "5. Si nous cliquons sur le bouton Télécharger maintenant, nous obtiendrions un seul fichier se terminant par l'extension `*.nc4`. **Cliquez pour télécharger l'un des granules que vous voyez ; voir la capture d'écran ci-dessous pour savoir sur quel bouton cliquer.**\n",
    "\n",
    "![](./assets/M1_screenshot_Earthdata_Search_download.png)"
   ]
  },
  {
   "cell_type": "markdown",
   "id": "20771d48-7d95-41a2-a78b-b4b7cea606a6",
   "metadata": {},
   "source": [
    "---\n",
    "\n",
    "## Téléchargement des données MERRA-2\n",
    "\n",
    "**Maintenant que nous commençons à télécharger des ensembles de données climatiques, il est temps de réfléchir de manière critique à la gestion des fichiers.** Notre projet est susceptible d'inclure un grand nombre d'ensembles de données brutes comme ce granule MERRA-2, mais aussi des scripts Python, des graphiques de sortie et des notes de recherche. Comment pouvons-nous garder tout cela organisé ?\n",
    "\n",
    "Il existe quelques lignes directrices simples qui peuvent vous aider à rester organisé. **Considérez l'exemple d'arborescence de fichiers ci-dessous.**\n",
    "\n",
    "### Exemple d'organisation de projet\n",
    "\n",
    "![](./assets/M1_file_tree_MERRA2.png)\n",
    "\n",
    "#### &#x1F3AF; Bonne pratique\n",
    "\n",
    "- Tous les fichiers de notre projet sont conservés dans un seul répertoire : `my_project`. Si un fichier est lié à notre projet, nous devrions pouvoir indiquer un seul endroit sur notre système de fichiers où il est conservé.\n",
    "- **Les données brutes, les scripts Python et les résultats sont conservés dans des dossiers séparés.** C'est très important, en particulier pour protéger les données brutes contre toute modification accidentelle. Si nous voulons rechercher un graphique que nous avons réalisé, nous pouvons aller directement dans le dossier `results`, au lieu de le chercher dans un ou plusieurs dossiers qui peuvent contenir des éléments différents. Nous pouvons imaginer différents sous-dossiers dans `results` que nous pourrions choisir pour organiser davantage nos résultats : `tables`, `plots_for_publication`, `summary_statistics`, etc.\n",
    "- **Nous avons choisi des noms de fichiers significatifs :** Notre projet actuel est assez simple, donc `MERRA2_processing.ipynb` pourrait être le meilleur nom pour le Notebook Jupyter où nous traitons les données MERRA-2. Un nom encore meilleur pourrait être `MERRA2_mean_annual_temp_calculation.ipynb`, pour indiquer le *but* du script. De même, `MERRA2_mean_annual_temp_2023.png` nous indique ce que représente le fichier (température annuelle moyenne) et la période de temps concernée (l'année 2023)."
   ]
  }
 ],
 "metadata": {
  "kernelspec": {
   "display_name": "Python 3 (ipykernel)",
   "language": "python",
   "name": "python3"
  },
  "language_info": {
   "codemirror_mode": {
    "name": "ipython",
    "version": 3
   },
   "file_extension": ".py",
   "mimetype": "text/x-python",
   "name": "python",
   "nbconvert_exporter": "python",
   "pygments_lexer": "ipython3",
   "version": "3.10.12"
  }
 },
 "nbformat": 4,
 "nbformat_minor": 5
}

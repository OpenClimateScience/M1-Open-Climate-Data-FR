{
 "cells": [
  {
   "cell_type": "markdown",
   "id": "a8f16d56-6db9-4ce7-9f72-3661bfa296b9",
   "metadata": {},
   "source": [
    "# M1.1 - Sources de données climatiques\r\n",
    "\r\n",
    "*Partie de:* [**Open Climate Data**](https://github.com/OpenClimateScience/M1-Open-Climate-Data) | **Leçon précédente** | **Leçon suivante**"
   ]
  },
  {
   "cell_type": "markdown",
   "id": "dda11cf2-12f8-4263-8441-58b0d2f8880e",
   "metadata": {},
   "source": [
    "**Contenu :**\n",
    "\n",
    "1. [Météo versus Climat](#Météo-versus-Climat)\n",
    "2. [Problèmes de Collecte des Données Climatiques](#Issues-with-climate-data-collection)\n",
    "3. [Capteurs et Stations au Sol](#Sensors-and-ground-stations)\n",
    "4. [Interpolation des Données des Stations](#Interpolating-station-data)\n",
    "\n",
    "    "
   ]
  },
  {
   "cell_type": "markdown",
   "id": "750cb9e0-493f-4ff0-b28f-717882d0bb14",
   "metadata": {},
   "source": [
    "## Météo versus Climat\n",
    "\n",
    "Nous entendons souvent les mots \"météo\" et \"climat\" utilisés de manière interchangeable. Pour clarifier :\n",
    "\n",
    "- **Météo** se réfère aux conditions atmosphériques actuelles, généralement à l'échelle horaire ou quotidienne. Par exemple, la météo \"cet après-midi\" pourrait inclure le taux de précipitation horaire ou la température moyenne. La météo \"d'hier\" pourrait inclure le total des précipitations journalières, la température maximale quotidienne, ou les heures d'ensoleillement.\n",
    "\n",
    "- **Climat** se réfère au modèle dominant à long terme des conditions atmosphériques. Par exemple, la quantité moyenne annuelle de précipitations décrit combien de précipitations vous pouvez *typiquement vous attendre* à recevoir en une année. Les descriptions du climat sont toujours basées sur une période de référence fixe, qu'elle soit spécifiée ou non. Par exemple, lorsque nous parlons de la température moyenne mensuelle, cela doit être basé sur une période de référence, comme la moyenne des années 1950 à 2000.\n",
    "\n",
    "**Cependant, dans ce programme, nous utiliserons souvent le terme *\"données climatiques\"* pour désigner les deux types de données, par souci de simplicité.**\n",
    "\n",
    "\n",
    "## Variabilité climatique dans les systèmes agricoles\n",
    "\n",
    "Le cycle de l'eau et de l'énergie est lié à travers le système climatique de la Terre, car le soleil réchauffe l'air et la surface terrestre, active la photosynthèse, et évapore l'eau. Pour comprendre les impacts du climat sur l'agriculture, nous aimerions mesurer les variables climatiques suivantes :\n",
    "\n",
    "- Température de l'air\n",
    "- Température de surface/du sol\n",
    "- Rayonnement solaire\n",
    "- Quantité de précipitations\n",
    "- Évapotranspiration\n",
    "- Humidité (ou déficit de pression de vapeur)\n",
    "- Humidité du sol\n",
    "\n",
    "Dans ce module, nous discuterons des capteurs et modèles de la NASA qui fournissent ce type d'informations à travers le monde.\n",
    "\n",
    "\n",
    "## Problèmes de Collecte des Données Climatiques\n",
    "\n",
    "**Il est difficile d'obtenir des données climatiques pour chaque partie du monde à tout moment.**\n",
    "\n",
    "- Nous ne pouvons pas placer une station météorologique à chaque point de la Terre. Nous ne savons même pas exactement à quelle distance doivent être espacées les stations météorologiques — cela pourrait varier selon les applications ou les régions du monde.\n",
    "\n",
    "- De même, les stations météorologiques ont une couverture limitée. La température et l'humidité, par exemple, peuvent varier sur des distances aussi courtes que quelques mètres. Ainsi, toute station météorologique ne peut représenter qu'une petite zone.\n",
    "\n",
    "- Dans certaines régions du monde, les systèmes de radar météorologique sont bloqués par des collines ou des montagnes, limitant leur couverture.\n",
    "\n",
    "En raison des limitations des données mentionnées ci-dessus mais aussi des contraintes informatiques, les données produites par les modèles météorologiques ont une résolution spatiale limitée. Parfois, le modèle peut décrire la température ou la vitesse du vent pour une zone bien plus grande qu'un champ de fermier ou même qu'une ville ou un district administratif.\n",
    "\n",
    "\n",
    "## Capteurs et Stations au Sol\n",
    "\n",
    "Il existe de nombreuses sources différentes de données météorologiques. En plus des capteurs installés sur des stations météorologiques au sol, il existe plusieurs capteurs aéroportés et des satellites en orbite terrestre qui fournissent des données en temps réel sur les conditions météorologiques. **Considérez les différentes sources de données météorologiques (et climatiques) dans la figure ci-dessous.**\n",
    "\n",
    "![](./assets/M1_fig_weather_data_sources.jpg)\n",
    "\n",
    "*Image utilisée avec la permission de l'Organisation Météorologique Mondiale (OMM).*\n",
    "\n",
    "\n",
    "## Interpolation des Données des Stations\n",
    "\n",
    "Il est possible de déterminer les conditions météorologiques dans un endroit difficile d'accès, à condition qu'il y ait une station de base à proximité. Il existe plusieurs principes physiques que nous pouvons utiliser pour interpoler les conditions météorologiques à un site en fonction d'un ou plusieurs endroits voisins où les conditions météorologiques sont surveillées. **Nous savons que la température de l'air diminue avec l'altitude à un certain rythme, en fonction de l'humidité (considérez la figure ci-dessous).**\n",
    "\n",
    "Nous savons également que, dans les terrains montagneux, certaines zones sont ombragées plus longtemps que d'autres. Le couvert végétal peut influencer la température sensible, à la fois parce que la végétation ombrage le sol et parce que, par temps froid, la végétation elle-même peut être une petite source de chaleur. Ces facteurs physiques et d'autres encore peuvent nous aider à déduire les conditions météorologiques à un endroit non surveillé en utilisant un modèle. Ce modèle peut être un modèle statistique simple ou un modèle physique complexe.\n",
    "\n",
    "![](./assets/M1_fig_temperature_lapse.png)\n",
    "\n",
    "*Photographie originale utilisée avec la permission de M. Djamel S. AKLI (Ath Salem).*"
   ]
  },
  {
   "cell_type": "markdown",
   "id": "22f4bafb-c894-45cd-81e0-b89b7640b0ec",
   "metadata": {},
   "source": [
    "---\n",
    "\n",
    "#### En général, il existe deux façons de faire des prédictions sur les conditions climatiques dans le temps et l'espace : les modèles statistiques et les modèles physiques. Mais avant d’en parler, faisons un peu de pratique avec les ensembles de données climatiques de la NASA"
   ]
  }
 ],
 "metadata": {
  "kernelspec": {
   "display_name": "Python 3 (ipykernel)",
   "language": "python",
   "name": "python3"
  },
  "language_info": {
   "codemirror_mode": {
    "name": "ipython",
    "version": 3
   },
   "file_extension": ".py",
   "mimetype": "text/x-python",
   "name": "python",
   "nbconvert_exporter": "python",
   "pygments_lexer": "ipython3",
   "version": "3.9.5"
  }
 },
 "nbformat": 4,
 "nbformat_minor": 5
}

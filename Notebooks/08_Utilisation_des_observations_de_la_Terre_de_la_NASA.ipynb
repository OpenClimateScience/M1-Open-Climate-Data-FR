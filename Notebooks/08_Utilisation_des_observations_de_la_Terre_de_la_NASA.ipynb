{
 "cells": [
  {
   "cell_type": "markdown",
   "id": "a79bde19-ec9b-401e-8ad0-6bfad1ad6dc3",
   "metadata": {},
   "source": [
    "# M1.8 - Utilisation des Observations Terrestres de la NASA"
   ]
  },
  {
   "cell_type": "markdown",
   "id": "0d24afa7-54b1-45bc-ab6b-9164cab19231",
   "metadata": {},
   "source": [
    "*Partie de:* [**Données Climatiques Ouvertes**](https://github.com/OpenClimateScience/M1-Open-Climate-Data) | **Leçon Précédente** | **Leçon Suivante**\n",
    "\n",
    "**Contenu :**\n",
    "\n",
    "- [Organisation de notre système de fichiers](#Organisation-de-notre-système-de-fichiers)\n",
    "- [Utilisation des observations climatiques de la NASA](#Utilisation-des-observations-climatiques-de-la-NASA)\n",
    "  - [Téléchargement des données d'humidité du sol de niveau 3 de SMAP](#Téléchargement-des-données-d'humidité-du-sol-de-niveau-3-de-SMAP)\n",
    "  - [Personnalisation d'un téléchargement via Earthdata Search](#Personnalisation-d'un-téléchargement-via-Earthdata-Search)\n",
    "- [Comprendre les fichiers de données hiérarchiques (HDF5)](#Comprendre-les-fichiers-de-données-hiérarchiques-(HDF5))\n",
    "  - [Lecture des ensembles de données HDF5](#Lecture-des-ensembles-de-données-HDF5)\n",
    "  - [Extraction des données SMAP L3](#Extraction-des-données-SMAP-L3)\n",
    "- [Masquage des plans d'eau permanents](#Masquage-des-plans-d'eau-permanents)\n",
    "- [Utilisation des indicateurs d'assurance qualité](#Utilisation-des-indicateurs-d'assurance-qualité)\n",
    "- [Création d'une série chronologique d'humidité du sol](#Création-d'une-série-chronologique-d'humidité-du-sol)\n",
    "  - [Calcul d'une moyenne mobile](#Calcul-d'une-moyenne-mobile)\n",
    "\n",
    "---"
   ]
  },
  {
   "cell_type": "code",
   "execution_count": null,
   "id": "25c13a88-9869-4dad-8384-e863e384589c",
   "metadata": {},
   "outputs": [],
   "source": [
    "import earthaccess\n",
    "import numpy as np\n",
    "import xarray as xr\n",
    "from matplotlib import pyplot\n",
    "\n",
    "auth = earthaccess.login()"
   ]
  },
  {
   "cell_type": "markdown",
   "id": "38f7b524-c0a6-46d7-9a8c-255d2a9a5c55",
   "metadata": {},
   "source": [
    "## Organisation de notre système de fichiers\n",
    "\n",
    "Encore une fois, nous aurons besoin d'un endroit pour stocker ces données brutes. Lorsque nous avons commencé à travailler avec les données de Noah NLDAS, nous avons créé les dossiers suivants dans notre système de fichiers :\n",
    "\n",
    "```\n",
    "data_raw/\n",
    "  NLDAS\n",
    "  SMAP_L3\n",
    "```\n",
    "\n",
    "Assurez-vous qu'il y ait également un dossier `SMAP_L3` pour recevoir les données que nous sommes sur le point de télécharger !"
   ]
  },
  {
   "cell_type": "markdown",
   "id": "1762ecbd-552c-4892-a296-2292906776a5",
   "metadata": {},
   "source": [
    "---\n",
    "\n",
    "## Utilisation des observations climatiques de la NASA\n",
    "\n",
    "Les données NLDAS que nous avons utilisées sont un excellent outil pour des études rétrospectives mais, en tant que données de réanalyse, elles présentent certaines limitations :\n",
    "\n",
    "- Elles ont une latence relativement élevée ; il peut s'écouler des jours ou des semaines avant que les données ne soient disponibles.\n",
    "- Elles intègrent des données provenant de multiples sources mais avec des niveaux d'exactitude et une couverture géographique variables.\n",
    "\n",
    "Si nous voulons caractériser la sécheresse éclair ou la détecter en quasi temps réel, nous ne devons pas utiliser des ensembles de données de réanalyse. Au lieu de cela, nous voulons des observations directes des conditions de sécheresse. **Voyons ce que nous pouvons apprendre sur la sécheresse éclair de 2017 à partir des estimations d'humidité du sol par satellite de la NASA.**\n",
    "\n",
    "**Nous allons utiliser les données de la mission Soil Moisture Active Passive (SMAP) de la NASA.** [Les missions d'observation de la Terre de la NASA fournissent des données regroupées en différents niveaux de traitement :](https://www.earthdata.nasa.gov/engage/open-data-services-and-software/data-information-policy/data-levels)\n",
    "\n",
    "- **Niveau 1 (Données brutes) :** Il s'agit essentiellement des valeurs mesurées directement par un instrument satellitaire. Elles peuvent ou non être interprétables physiquement. La plupart des utilisateurs finaux ne bénéficieront pas des données de niveau 1.\n",
    "- **Niveau 2 :** Ce sont des valeurs physiquement interprétables dérivées des données brutes, avec la même résolution spatiale et temporelle que les données de niveau 1. Les données de niveau 2 peuvent être difficiles à utiliser car la structure spatiale des données correspond à la géométrie de vision de l'instrument.\n",
    "- **Niveau 3 :** Au niveau 3, les valeurs géophysiques ont été standardisées sur une grille spatiale uniforme et une série chronologique uniforme. Bien que certaines valeurs puissent être manquantes en raison de la faible qualité, des nuages ou de la défaillance du capteur, les données de niveau 3 en grille à différentes étapes temporelles peuvent être facilement combinées et comparées.\n",
    "- **Niveau 4 (Données améliorées par modèle) :** Au niveau 4, les valeurs des données de niveau 3 sont intégrées dans un modèle, combinant éventuellement des ensembles de données supplémentaires et indépendants provenant d'autres capteurs pour produire des estimations ou des analyses améliorées des variables géophysiques.\n",
    "\n",
    "### Téléchargement des données d'humidité du sol de niveau 3 de SMAP\n",
    "\n",
    "**[Nous utiliserons les données d'humidité du sol de surface de niveau 3 à 36 km de la mission SMAP](https://nsidc.org/data/spl3smp/versions/8)** car elles représentent un bon compromis entre les observations directes des capteurs et la facilité d'utilisation.\n",
    "\n",
    "- Sur le site web ci-dessus, nous pouvons voir qu'il existe plusieurs façons d'accéder aux données. [Utilisons Earthdata Search ;](https://search.earthdata.nasa.gov/search?q=SPL3SMP+V008) pouvons-nous accéder aux données depuis le cloud de la NASA en utilisant `earthaccess` ?\n",
    "- Vous avez peut-être remarqué que les données de niveau 3 de SMAP que nous voulons utiliser *ne sont pas* « Disponibles dans le cloud Earthdata ». Il semble que nous devions télécharger les données directement.\n",
    "- **Où allons-nous mettre les données brutes que nous téléchargeons ?** Revisitons notre arbre de fichiers dans Jupyter Notebook.\n",
    "- **Dans le dossier `data_raw`, créons un nouveau dossier appelé `SMAP_L3`.** C'est ici que nous placerons les données que nous allons télécharger.\n",
    "\n",
    "Nous avons discuté de l'importance d'avoir un flux de travail bien documenté qui permet de comprendre facilement comment nous avons obtenu un résultat scientifique particulier. Nous supposons que nous pouvons re-télécharger les données brutes que nous avons utilisées à tout moment, mais que se passerait-il si nous oublions d'où viennent les données ? Étant donné que les données de niveau 3 de SMAP ne sont pas disponibles dans le cloud, nous allons les télécharger manuellement et il serait bon de documenter les étapes que nous avons suivies pour le faire, au cas où des questions se poseraient sur l'origine des données ou le type de traitement qui leur a été appliqué."
   ]
  },
  {
   "cell_type": "markdown",
   "id": "7e968705-497e-42e6-98cc-fb44cbfbf7a8",
   "metadata": {},
   "source": [
    "#### &#x1F3AF; Bonne Pratique\n",
    "\n",
    "- Dans l'arborescence du fichier Jupyter Notebook, dans le dossier `SMAP_L3`, créons un `\"Nouveau Fichier\"`. Nommez le nouveau fichier texte `README.txt`.\n",
    "- Double-cliquez sur `README.txt` pour l'ouvrir. C'est ici que nous ajouterons des informations utiles sur les données que nous allons télécharger. Voici un exemple.\n",
    "\n",
    "```\n",
    "Auteur : Jane Q. Public (jane.public@example.com)\n",
    "Date : 1er novembre 2023\n",
    "\n",
    "Ce dossier contient les données de niveau 3 de la mission SMAP. Elles ont été téléchargées depuis :\n",
    "\n",
    "    https://search.earthdata.nasa.gov/search?q=SPL3SMP+V008\n",
    "\n",
    "Voici quelques informations supplémentaires sur ce produit :\n",
    "\n",
    "    https://nsidc.org/data/spl3smp/versions/8\n",
    "```\n",
    "\n",
    "Cela peut ne pas sembler beaucoup d'informations, mais il y a suffisamment ici que nous voudrions savoir si nous faisions une longue pause dans ce projet ou si quelqu'un d'autre devait essayer de comprendre ce que nous faisions. Et sa courte longueur est également un avantage : **documenter votre projet ne doit pas être difficile et toute quantité d'informations est meilleure que rien.**"
   ]
  },
  {
   "cell_type": "markdown",
   "id": "50fe9d41-9103-4ba6-add7-a9fbc08ea795",
   "metadata": {},
   "source": [
    "### Personnalisation d'un téléchargement via Earthdata Search\n",
    "\n",
    "Le satellite SMAP effectue deux passages chaque jour, un passage \"matinal\" et un passage \"après-midi\" (heure locale). Utilisons les données d'humidité du sol du passage après-midi (PM), car c'est probablement à ce moment que le stress hydrique sur la végétation est à son maximum.\n",
    "\n",
    "- [**Ce lien vous mènera à la bonne page pour commencer.**](https://search.earthdata.nasa.gov/search?q=SPL3SMP%20V008) Cliquez sur l'ensemble de données qui est affiché à droite de la fenêtre de recherche.\n",
    "- Nous téléchargerons les données d'août et septembre pour étudier l'apparition et la progression de la sécheresse éclair de 2017 : **Choisissez une plage temporelle, du 1er juin 2017 au 30 septembre 2017.**\n",
    "- En bas à droite, **cliquez sur le gros bouton vert qui indique \"Download All\" (Tout Télécharger).**\n",
    "- 3,8 Go, c'est beaucoup de données ! Pouvons-nous rendre ce téléchargement plus petit ? Nous ne sommes intéressés que par l'humidité du sol du passage après-midi. **Cliquez sur \"Edit Options\" et, sous \"Select a data access method\", sélectionnez l'option \"Customize\".**\n",
    "\n",
    "![](assets/M1_Earthdata_Search_SMAP-L3_customize_order.png)\n",
    "\n",
    "- **Faites défiler vers le bas jusqu'à \"Configure data customization options\" et jusqu'à \"Band subsetting.\"**\n",
    "- **Dans la zone de texte qui lit \"Filter\", tapez `soil_moisture_dca_pm`.** Cela filtrera les variables disponibles (\"bands\") pour n'afficher que cette variable spécifique, qui est l'estimation de l'humidité du sol basée sur l'algorithme à double canal (DCA) pour le passage après-midi (PM).\n",
    "- Pour s'assurer que nous téléchargeons uniquement les champs que nous voulons, **vous devrez décocher la case à côté de `SPL3SMP` puis recocher la case à côté de `soil_moisture_dca_pm` (voir capture d'écran ci-dessous) et chaque variable que nous voulons conserver.**\n",
    "\n",
    "![](assets/M1_Earthdata_Search_SMAP-L3_customize_order_variables.png)\n",
    "\n",
    "**Nous voulons télécharger les champs suivants (uniquement) :**\n",
    "\n",
    "- `soil_moisture_dca_pm`\n",
    "- `static_water_body_fraction_pm`\n",
    "- `retrieval_qual_flag_dca_pm`\n",
    "  \n",
    "Cliquez sur \"Done\" en bas de ce formulaire puis sur le gros bouton vert \"Download Data\" (Télécharger les Données) !"
   ]
  },
  {
   "cell_type": "markdown",
   "id": "4b8d71ec-9442-451a-9db2-9445b5a5c44d",
   "metadata": {},
   "source": [
    "#### &#x1F6A9; <span style=\"color:red\">Attendez !</red>\n",
    "\n",
    "Parce que nous avons sélectionné un sous-ensemble de variables, nous devrons attendre de recevoir un e-mail nous indiquant que la commande est prête. **Vous n'avez pas besoin de faire ces étapes vous-même, car j'ai déjà préparé tous les granules de données qui seraient téléchargés de cette manière.** Ils peuvent être téléchargés directement ici :\n",
    "\n",
    "- [SMAP_L3_SPL3SMP_V008_20170601_20170930.zip](http://files.ntsg.umt.edu/data/ScienceCore/SMAP_L3_SPL3SMP_V008_20170601_20170930.zip) (Extrayez le contenu de ce fichier ZIP dans votre dossier `data_raw/SMAP_L3`)"
   ]
  },
  {
   "cell_type": "markdown",
   "id": "7a6fcfd0-56f9-4ad7-9998-4104e4680432",
   "metadata": {},
   "source": [
    "--- \n",
    "\n",
    "## Comprendre les fichiers de données hiérarchiques (HDF5)"
   ]
  },
  {
   "cell_type": "markdown",
   "id": "6bae66ba-1f3f-4ead-a899-b68503ae252d",
   "metadata": {},
   "source": [
    "Les données SMAP de niveau 3 que nous avons téléchargées sont stockées dans un fichier de données hiérarchiques, version 5 (HDF5)."
   ]
  },
  {
   "cell_type": "code",
   "execution_count": null,
   "id": "af777f84-05bf-4a48-b6d7-11ee827faf3c",
   "metadata": {},
   "outputs": [],
   "source": [
    "import h5py\n",
    "\n",
    "filename = 'data_raw/SMAP_L3/SMAP_L3_SM_P_20170901_R18290_001.h5'\n",
    "hdf = h5py.File(filename, 'r')\n",
    "hdf"
   ]
  },
  {
   "cell_type": "markdown",
   "id": "adc21c83-44dc-4ef4-a7a6-dad557c0241c",
   "metadata": {},
   "source": [
    "Un fichier HDF5 ressemble beaucoup à un fichier netCDF4 : ce sont tous deux des fichiers hiérarchiques capables de stocker plusieurs ensembles de données et métadonnées divers dans un même fichier. Que voulons-nous dire par \"hiérarchique\" ? Eh bien, un fichier HDF5 ou netCDF4 est comme un arbre de fichiers, où les *ensembles de données* peuvent être organisés en différents *groupes* imbriqués, comme illustré ci-dessous. Les métadonnées, sous forme d'*attributs*, peuvent être attachées à n'importe quel ensemble de données ou groupe dans tout le fichier.\n",
    "\n",
    "![](assets/hdf5-structure.jpg)\n",
    "\n",
    "*Image fournie par NEON Science.*"
   ]
  },
  {
   "cell_type": "markdown",
   "id": "d3b05df1-cebb-4fb9-b532-c41d542047c2",
   "metadata": {},
   "source": [
    "Nous pouvons consulter les groupes et les ensembles de données au plus haut niveau de cette hiérarchie en tapant :"
   ]
  },
  {
   "cell_type": "code",
   "execution_count": null,
   "id": "6f478567-664d-48cf-990a-f38ad78fa1c6",
   "metadata": {},
   "outputs": [],
   "source": [
    "hdf.keys()"
   ]
  },
  {
   "cell_type": "markdown",
   "id": "ae67bfe3-965a-41fd-9e0f-c3a798f759c2",
   "metadata": {},
   "source": [
    "L'objet `h5py.File`, `hdf`, est consulté comme un dictionnaire Python. Si nous voulons examiner le groupe `'Metadata'`, par exemple, nous tapons :"
   ]
  },
  {
   "cell_type": "code",
   "execution_count": null,
   "id": "0c73580d-bc31-4f59-8064-ccce0d0ef783",
   "metadata": {},
   "outputs": [],
   "source": [
    "hdf['Metadata']"
   ]
  },
  {
   "cell_type": "markdown",
   "id": "a682e275-cd4b-49b2-aecf-61712aacec7a",
   "metadata": {},
   "source": [
    "Cela n'est pas très informatif, mais chaque groupe et ensemble de données dans un objet `h5py.File` se comporte également comme un dictionnaire Python :"
   ]
  },
  {
   "cell_type": "code",
   "execution_count": null,
   "id": "c9469661-4435-4472-b429-ccee11945eaa",
   "metadata": {},
   "outputs": [],
   "source": [
    "hdf['Metadata'].keys()"
   ]
  },
  {
   "cell_type": "markdown",
   "id": "84eedb81-b0af-4ecf-8cee-46a70ca60fcd",
   "metadata": {},
   "source": [
    "Le groupe `'Metadata'` est un exemple de la manière dont nous pourrions stocker des informations dans un fichier HDF5 en dehors des tableaux multi-dimensionnels.\n",
    "\n",
    "Quelle est la signification de ce groupe vide ?"
   ]
  },
  {
   "cell_type": "code",
   "execution_count": null,
   "id": "55cad114-a67c-45d4-8941-e5914205bdf6",
   "metadata": {},
   "outputs": [],
   "source": [
    "hdf['Metadata/ProcessStep']"
   ]
  },
  {
   "cell_type": "markdown",
   "id": "812a939d-338a-4dbe-a761-cf7976d4d308",
   "metadata": {},
   "source": [
    "Tout comme les fichiers netCDF, chaque ensemble de données dans un fichier HDF5 peut être étiqueté avec des attributs."
   ]
  },
  {
   "cell_type": "code",
   "execution_count": null,
   "id": "3dc84ca9-828b-411c-ad3b-4330e30fa509",
   "metadata": {},
   "outputs": [],
   "source": [
    "hdf['Metadata/ProcessStep'].attrs.keys()"
   ]
  },
  {
   "cell_type": "code",
   "execution_count": null,
   "id": "66735587-3c8e-4572-a004-338c00222ebc",
   "metadata": {},
   "outputs": [],
   "source": [
    "hdf['Metadata/ProcessStep'].attrs['processor']"
   ]
  },
  {
   "cell_type": "markdown",
   "id": "5573327d-a61f-45fe-8b82-9c2598767731",
   "metadata": {},
   "source": [
    "### Lecture des ensembles de données HDF5"
   ]
  },
  {
   "cell_type": "markdown",
   "id": "2ddfa9d8-3973-4632-9b86-8e5471e02dfe",
   "metadata": {},
   "source": [
    "Nous ouvrons un fichier HDF5 pour lecture avec le drapeau `'r'`, ci-dessous."
   ]
  },
  {
   "cell_type": "code",
   "execution_count": null,
   "id": "9f23df3c-e8c9-4f72-8f6d-09b53342d914",
   "metadata": {},
   "outputs": [],
   "source": [
    "hdf = h5py.File(filename, 'r')\n",
    "hdf.keys()"
   ]
  },
  {
   "cell_type": "markdown",
   "id": "a9edc4fa-fbee-4f2a-89f7-8e7e31bf4144",
   "metadata": {},
   "source": [
    "Encore une fois, nous pouvons accéder aux ensembles de données de manière hiérarchique..."
   ]
  },
  {
   "cell_type": "code",
   "execution_count": null,
   "id": "1f44bc8d-9e70-4358-bdb8-3ffcc101ee26",
   "metadata": {},
   "outputs": [],
   "source": [
    "hdf['Soil_Moisture_Retrieval_Data_PM'].keys()"
   ]
  },
  {
   "cell_type": "markdown",
   "id": "f3e5406d-66b4-4860-8b6c-200f1b8752f2",
   "metadata": {},
   "source": [
    "Et si nous voulons lire un ensemble de données, nous utilisons la notation `[:]` de NumPy pour indiquer que nous voulons accéder à un tableau."
   ]
  },
  {
   "cell_type": "code",
   "execution_count": null,
   "id": "5c20daf3-c174-460a-90c1-16d6d625fdb4",
   "metadata": {},
   "outputs": [],
   "source": [
    "hdf['Soil_Moisture_Retrieval_Data_PM/soil_moisture_dca_pm'][:]"

]
  },
  {
   "cell_type": "markdown",
   "id": "b7ed4753-4aef-4a43-9c3e-0a847cbdc8e4",
   "metadata": {},
   "source": [
    "Chaque fois que nous avons fini de travailler avec un fichier HDF5 ouvert, nous devons nous assurer de le fermer."
   ]
  },
  {
   "cell_type": "code",
   "execution_count": null,
   "id": "4281dc17-0562-4902-b878-ba86687911fb",
   "metadata": {},
   "outputs": [],
   "source": [
    "hdf.close()"
   ]
  },
  {
   "cell_type": "markdown",
   "id": "0e6cf24a-8164-49e9-aac7-d155880a3bcc",
   "metadata": {},
   "source": [
    "**Voyons ce qui est différent lorsque nous ouvrons le même fichier en utilisant `xarray`.** En particulier, examinez les **variables de données.**"
   ]
  },
  {
   "cell_type": "code",
   "execution_count": null,
   "id": "3dd13e73-0f04-4ab1-9a15-ad5dcc0fa21b",
   "metadata": {},
   "outputs": [],
   "source": [
    "ds = xr.open_dataset(filename)\n",
    "ds"
   ]
  },
  {
   "cell_type": "markdown",
   "id": "aa81ced6-0b65-48b4-8290-04fada92528c",
   "metadata": {},
   "source": [
    "La seule variable trouvée, `\"crs\"`, ne sera pas très utile pour nous.\n",
    "\n",
    "**`xarray` a des limitations lorsqu'il ouvre des fichiers HDF5 ; il n'est pas capable de déterminer quels groupes sont disponibles.** Au lieu de cela, nous devons spécifier le groupe que nous voulons ouvrir."
   ]
  },
  {
   "cell_type": "code",
   "execution_count": null,
   "id": "d4937b54-50e1-43de-b426-23745f86caac",
   "metadata": {},
   "outputs": [],
   "source": [
    "ds = xr.open_dataset(filename, group = 'Soil_Moisture_Retrieval_Data_PM')\n",
    "ds"
   ]
  },
  {
   "cell_type": "markdown",
   "id": "eb4b6adc-f6ab-4ee8-8ac6-5503f7b9ec6b",
   "metadata": {},
   "source": [
    "Nous avons maintenant une variable utile, `\"soil_moisture_dca_pm\"`, mais notre `xarray.Dataset` n'a pas de coordonnées !\n",
    "\n",
    "Une manière de résoudre cela serait d'assigner des coordonnées à notre `xarray.Dataset`. C'est pourquoi nous avons besoin de la bibliothèque `h5py`, spécialisée dans la gestion des fichiers HDF5. Nous pouvons lire les coordonnées `\"x\"` et `\"y\"` à partir de notre `h5py.File` et les ajouter au `xarray.Dataset`, comme ci-dessous."
   ]
  },
  {
   "cell_type": "code",
   "execution_count": null,
   "id": "1fbf531a-2dab-4067-8db3-5bdde91b4140",
   "metadata": {},
   "outputs": [],
   "source": [
    "# Instructeur : Notez l'assignation des coordonnées\n",
    "\n",
    "hdf = h5py.File(filename, 'r')\n",
    "ds = ds.assign_coords({'x': hdf['x'][:], 'y': hdf['y'][:]})\n",
    "hdf.close()\n",
    "ds"
   ]
  },
  {
   "cell_type": "markdown",
   "id": "83ad3ae9-9d89-4266-8c56-dcb28bee3054",
   "metadata": {},
   "source": [
    "Maintenant que nous avons à la fois une **variable de données** et des **coordonnées**, nous sommes prêts à tracer les données !"
   ]
  },
  {
   "cell_type": "code",
   "execution_count": null,
   "id": "87fa77a5-e5e3-4a5d-95ba-8c6fbd7a952d",
   "metadata": {},
   "outputs": [],
   "source": [
    "pyplot.figure(figsize = (12, 5))\n",
    "ds['soil_moisture_dca_pm'].plot()"
   ]
  },
  {
   "cell_type": "markdown",
   "id": "9410de18-9d8f-40df-98ec-e8ac2452c6d9",
   "metadata": {},
   "source": [
    "#### &#x1F6A9; <span style=\"color:red\">Faites attention</red>\n",
    "\n",
    "**Remarquez les bandes dans cette image.** Le satellite SMAP a un temps de revisite de 2 à 3 jours. Cela signifie que, sur une seule journée, le radiomètre du satellite n'imagine qu'une partie du globe. Nous pourrions combiner les passages matinaux, `\"soil_moisture_dca_am\"`, et après-midi, `\"soil_moisture_dca_pm\"`, pour une seule journée, mais l'humidité du sol dans de nombreuses régions du monde varie beaucoup entre le matin et l'après-midi, donc cela pourrait ne pas être raisonnable.\n",
    "\n",
    "Nous avons choisi le passage après-midi, `\"soil_moisture_dca_pm\"`, car c'est généralement l'après-midi que le stress hydrique est le plus élevé dans les écosystèmes terrestres."
   ]
  },
  {
   "cell_type": "code",
   "execution_count": null,
   "id": "e7b1d838-e3b8-4073-ac22-7e24324536d6",
   "metadata": {},
   "outputs": [],
   "source": [
    "def process_smap_l3(file_path):\n",
    "    '''\n",
    "    Paramètres\n",
    "    ----------\n",
    "    file_path : str\n",
    "        Le chemin vers le fichier SMAP L3\n",
    "\n",
    "    Renvoie\n",
    "    -------\n",
    "    xarray.Dataset\n",
    "    '''\n",
    "    with h5py.File(file_path, 'r') as hdf:\n",
    "        ds = xr.open_dataset(file_path, group = 'Soil_Moisture_Retrieval_Data_PM')\n",
    "        return ds.assign_coords({'x': hdf['x'][:], 'y': hdf['y'][:]})"
   ]
  },
  {
   "cell_type": "markdown",
   "id": "ee212fd6-14f6-429c-b4d5-7893179250e5",
   "metadata": {},
   "source": [
    "---\n",
    "\n",
    "### Extraction des données SMAP L3\n",
    "\n",
    "Les données d'humidité du sol de SMAP sont globales, mais nous nous intéressons actuellement à une petite région d'étude, les plaines du nord des États-Unis. Comment pouvons-nous extraire les données SMAP pour notre zone d'intérêt ?\n",
    "\n",
    "Vous avez peut-être remarqué que les coordonnées que nous avons ajoutées à notre `xarray.Dataset`, ci-dessus, n'étaient pas des coordonnées latitude-longitude. [Les données SMAP sont projetées sur une grille EASE-Grid 2.0, où \"EASE\" signifie Equal-Area Scalable Earth.](https://nsidc.org/data/user-resources/help-center/guide-ease-grids#anchor-9-km-resolution-ease-grids) Cette projection unique, mondiale, présente de nombreux avantages, mais les coordonnées X (\"Easting\") et Y (\"Northing\") peuvent être difficiles à comprendre lorsque nous avons l'habitude de travailler avec des coordonnées latitude-longitude."
   ]
  },
  {
   "cell_type": "markdown",
   "id": "2f756993-2ee8-4846-85ab-2aa46668ff2d",
   "metadata": {},
   "source": [
    "**Ci-dessous est un exemple de la façon dont nous pourrions modifier notre fonction `process_smap_l3()` pour convertir les coordonnées de notre ensemble de données des coordonnées EASE-Grid 2.0 en coordonnées longitude et latitude à l'aide de la bibliothèque `pyproj`.**\n",
    "\n",
    "```python\n",
    "from pyproj import Transformer\n",
    "from pyproj import CRS\n",
    "\n",
    "def process_smap_l3(file_path):\n",
    "    '''\n",
    "    Paramètres\n",
    "    ----------\n",
    "    file_path : str\n",
    "        Le chemin vers le fichier SMAP L3\n",
    "\n",
    "    Renvoie\n",
    "    -------\n",
    "    xarray.Dataset\n",
    "    '''\n",
    "    # Obtenir une fonction pour convertir les coordonnées de l'EASE-Grid 2.0 en WGS84 (latitude-longitude)\n",
    "    crs_ease2 = CRS.from_epsg(6933)\n",
    "    crs_wgs84 = CRS.from_epsg(4326)\n",
    "    transform = Transformer.from_crs(crs_ease2, crs_wgs84)\n",
    "    \n",
    "    with h5py.File(file_path, 'r') as hdf:\n",
    "        # Convertir de (Northing, Easting) en (Latitude, Longitude)\n",
    "        lng = list(map(lambda x: transform.transform(x, 0)[1], hdf['x'][:].tolist()))\n",
    "        lat = list(map(lambda y: transform.transform(0, y)[0], hdf['y'][:].tolist()))\n",
    "        ds = xr.open_dataset(file_path, group = 'Soil_Moisture_Retrieval_Data_PM')\n",
    "        \n",
    "    return ds.assign_coords({'x': lng, 'y': lat})\n",
    "```\n",
    "\n",
    "&#x1F449; **Pour simplifier, nous ne ferons pas cette conversion des coordonnées dans la leçon d'aujourd'hui.** \n",
    "\n",
    "**Nous allons plutôt extraire nos données en utilisant une plage de lignes et de colonnes correspondant à une zone près de Glasgow, dans le Montana : 105.882 W de longitude et 48.059 N de latitude.**"
   ]
  },
  {
   "cell_type": "code",
   "execution_count": null,
   "id": "0c780896-f79e-493c-bbfa-99c049824b28",
   "metadata": {},
   "outputs": [],
   "source": [
    "ds = process_smap_l3('data_raw/SMAP_L3/SMAP_L3_SM_P_20170802_R18290_001.h5')\n",
    "\n",
    "ds['soil_moisture_dca_pm'][49:59,187:227].plot()"
   ]
  },
  {
   "cell_type": "markdown",
   "id": "0f2f9dd8-0a75-493e-ad70-08423c41c152",
   "metadata": {},
   "source": [
    "#### &#x1F6A9; <span style=\"color:red\">Faites attention</red>\n",
    "\n",
    "Il y a deux points à noter sur cette image :\n",
    "\n",
    "- **Il est évident que la partie ouest de notre zone d'étude a été manquée par le satellite ce jour-là.** Cela signifie que, selon le jour, la valeur reflète les conditions d'humidité du sol dans différentes parties plus petites de notre région d'étude.\n",
    "- **Il y a une zone avec une très forte humidité du sol (pixel jaune vif) au centre gauche de l'image.** Ce pixel est presque certainement un plan d'eau permanent, donc si nous faisions une analyse régionale, nous voudrions le masquer.\n",
    "\n",
    "Abordons ces deux problèmes."
   ]
  },
  {
   "cell_type": "markdown",
   "id": "7424a44b-2747-4bc7-9dba-b25f3d470240",
   "metadata": {},
   "source": [
    "---\n",
    "\n",
    "## Masquage des plans d'eau permanents"
   ]
  }
 ],
 "metadata": {
  "kernelspec": {
   "display_name": "Python 3 (ipykernel)",
   "language": "python",
   "name": "python3"
  },
  "language_info": {
   "codemirror_mode": {
    "name": "ipython",
    "version": 3
   },
   "file_extension": ".py",
   "mimetype": "text/x-python",
   "name": "python",
   "nbconvert_exporter": "python",
   "pygments_lexer": "ipython3",
   "version": "3.10.12"
  }
 },
 "nbformat": 4,
 "nbformat_minor": 5
}

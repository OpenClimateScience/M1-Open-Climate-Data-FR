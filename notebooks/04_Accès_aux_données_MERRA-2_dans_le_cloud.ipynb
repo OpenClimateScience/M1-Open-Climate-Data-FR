{
 "cells": [
  {
   "cell_type": "markdown",
   "id": "97e56497-bb38-4188-ac4f-3467d7edb6a9",
   "metadata": {},
   "source": [
    "# M1.4 - Accéder aux données MERRA-2 dans le cloud\n",
    "\n",
    "*Partie de:* [**Open Climate Data**](https://github.com/OpenClimateScience/M1-Open-Climate-Data) | **Leçon précédente** | **Leçon suivante**"
   ]
  },
  {
   "cell_type": "markdown",
   "id": "8cdf638e-3a5b-4588-9569-92d7f7ae439b",
   "metadata": {},
   "source": [
    "**Contenu :**\n",
    "\n",
    "- [Utilisation de `earthaccess`](#Utilisation-de-earthaccess)\n",
    "- [Obtenir une série temporelle de température](#Obtenir-une-série-temporelle-de-température)"
   ]
  },
  {
   "cell_type": "code",
   "execution_count": null,
   "id": "5af7c0c0-b184-4c29-98f1-94033f52e678",
   "metadata": {},
   "outputs": [],
   "source": [
    "import earthaccess\n",
    "import xarray as xr\n",
    "from matplotlib import pyplot\n",
    "\n",
    "auth = earthaccess.login()"
   ]
  },
  {
   "cell_type": "markdown",
   "id": "91606a2f-50bc-4817-8399-7d3cbe5501aa",
   "metadata": {},
   "source": [
    "## Utilisation de `earthaccess`"
   ]
  },
  {
   "cell_type": "markdown",
   "id": "02d18069-393a-44b4-a961-153343866cb4",
   "metadata": {},
   "source": [
    "Précédemment, nous avons téléchargé manuellement un fichier netCDF4 depuis NASA Earthdata Search. Maintenant, voyons comment nous pouvons utiliser du code Python pour télécharger des données depuis le cloud.\n",
    "\n",
    "La bibliothèque `earthaccess` peut être utilisée pour rechercher et télécharger des données depuis Earthdata Search sans ouvrir de navigateur web ni cliquer un peu partout. Pour certaines applications, cela nous permet d'écrire du code Python plus transparent et reproductible, car cela permet à une autre personne d'obtenir facilement les mêmes données brutes avec lesquelles nous commençons.\n",
    "\n",
    "Nous utilisons `earthaccess.search_data()` pour obtenir un ou plusieurs **granules** qui correspondent à une requête de recherche. Un granule est un ensemble de données unique associé à une mission ou un produit de la NASA.\n",
    "\n",
    "**Vous vous souvenez où se trouve le nom court des produits Earthdata ?** Dans la page d'information (i), il y a deux emplacements :\n",
    "\n",
    "![](./assets/M1_screenshot_Earthdata_Search_MERRA2_info.png)\n",
    "\n",
    "**Nous utilisons le `short_name` (nom court) pour indiquer quelle collection de granules de données nous voulons rechercher.**\n",
    "\n",
    "Dans cet exemple, nous trouvons qu'il y a 32 granules entre le 1er mai et le 1er juin inclus."
   ]
  },
  {
   "cell_type": "code",
   "execution_count": null,
   "id": "a9c1227d-a06b-4fab-8b12-966915e67dcb",
   "metadata": {},
   "outputs": [],
   "source": [
    "results = earthaccess.search_data(\n",
    "    short_name = 'M2SDNXSLV',\n",
    "    temporal = (\"2023-05\", \"2023-06\"))\n",
    "results[0]"
   ]
  },
  {
   "cell_type": "markdown",
   "id": "7ad9248e-f66e-4296-bd52-6c15b71cf821",
   "metadata": {},
   "source": [
    "Aucune donnée n'a encore été téléchargée ; nous avons juste une référence aux données stockées dans le cloud."
   ]
  },
  {
   "cell_type": "code",
   "execution_count": null,
   "id": "ccafbe41-cec1-4799-a6ff-d44c34f01b75",
   "metadata": {},
   "outputs": [],
   "source": [
    "type(results[0])"
   ]
  },
  {
   "cell_type": "markdown",
   "id": "e24baa41-3960-43a6-9448-1bd94de4da43",
   "metadata": {},
   "source": [
    "Pour télécharger un granule, nous pouvons utiliser `earthaccess.open()`. \n",
    "\n",
    "#### &#x1F6A9; <span style=\"color:red\">Attention</red>\n",
    "\n",
    "**Un point important à noter concernant `earthaccess.open()` est qu'il nécessite une *séquence* de granules à ouvrir.** Donc, même si nous voulons ouvrir un seul granule, celui-ci doit être fourni dans une liste ou un tuple Python."
   ]
  },
  {
   "cell_type": "code",
   "execution_count": null,
   "id": "3f97ff3f-35c0-4555-945b-0060c1c54be9",
   "metadata": {},
   "outputs": [],
   "source": [
    "# REMARQUE : open() nécessite une séquence de références de fichiers\n",
    "files = earthaccess.open(results[0:2])"
   ]
  },
  {
   "cell_type": "code",
   "execution_count": null,
   "id": "61e677cf-7ce3-4076-92aa-aeb2d6240620",
   "metadata": {},
   "outputs": [],
   "source": [
    "type(files[0])"
   ]
  },
  {
   "cell_type": "markdown",
   "id": "44af3f59-443b-4ea2-a709-57921914c26c",
   "metadata": {},
   "source": [
    "Les granules ont été téléchargés dans la mémoire de notre ordinateur. Pour ouvrir l'un des fichiers téléchargés dans Python, nous utilisons maintenant `xarray`. Il y a un léger décalage lors de l'utilisation de `open_dataset()` sur un granule téléchargé via `earthaccess.open()`, car `xarray` doit analyser le fichier et comprendre le système de coordonnées et les dimensions."
   ]
  },
  {
   "cell_type": "code",
   "execution_count": null,
   "id": "4cfd81df-dc44-443d-9bd0-a8413c44bd96",
   "metadata": {},
   "outputs": [],
   "source": [
    "ds2 = xr.open_dataset(files[0])\n",
    "ds2"
   ]
  },
  {
   "cell_type": "markdown",
   "id": "0ba29031-010f-4e1b-90c5-f71510546df1",
   "metadata": {},
   "source": [
    "Le `xarray.Dataset` résultant est prêt à être tracé !"
   ]
  },
  {
   "cell_type": "code",
   "execution_count": null,
   "id": "fbb2c0ba-9ae5-497c-a421-3e14404185e3",
   "metadata": {},
   "outputs": [],
   "source": [
    "ds2['T2MMIN'].plot()"
   ]
  },
  {
   "cell_type": "markdown",
   "id": "20ced234-29b5-4a9a-a960-4d03ad292a01",
   "metadata": {},
   "source": [
    "## Obtenir une série temporelle de température"
   ]
  },
  {
   "cell_type": "markdown",
   "id": "6efe6da6-360f-4f94-bfd0-8123cdbef47c",
   "metadata": {},
   "source": [
    "Cela a bien fonctionné pour un seul fichier, mais que faire si nous voulions générer une série temporelle de données climatiques ? Nous savons que les jeux de données `xarray` peuvent avoir une dimension temporelle, ce qui les rend capables de représenter plusieurs moments dans le temps. Comment créer un tel ensemble de données ?\n",
    "\n",
    "Dans cet exemple suivant, nous utilisons une boucle `for` pour itérer sur les granules MERRA-2, en ouvrant chacun d'eux, puis en sélectionnant la valeur `T2MMIN` (température minimale) à un emplacement spécifique. Nous ajoutons cette valeur à une liste, ainsi que la date (`\"time\"`) du granule, pour construire un ensemble de données de série temporelle."
   ]
  },
  {
   "cell_type": "code",
   "execution_count": null,
   "id": "8cce6c4e-9737-4e8e-b5d5-7f1d942b211f",
   "metadata": {},
   "outputs": [],
   "source": [
    "# REMARQUE : Cet exemple peut prendre une demi-minute avec une bonne connexion internet.\n",
    "results = earthaccess.search_data(\n",
    "    short_name = 'M2SDNXSLV',\n",
    "    temporal = (\"2023-05\", \"2023-06\"))\n",
    "\n",
    "time_list = []\n",
    "data_list = []\n",
    "file_list = earthaccess.open(results)\n",
    "for filename in file_list:\n",
    "    ds = xr.open_dataset(filename)\n",
    "    data_list.append(ds['T2MMIN'].sel(lat = 36.5, lon = 3.125).values)\n",
    "    time_list.append(ds['T2MMIN']['time'].values)"
   ]
  },
  {
   "cell_type": "markdown",
   "id": "7226bbbb-6410-414d-af45-0581078f0110",
   "metadata": {},
   "source": [
    "Nous avons maintenant une `liste` Python de valeurs de température minimale et une autre `liste` de dates. Ci-dessous, nous traçons ces données, après avoir utilisé `numpy` pour convertir les données de température de degrés Kelvin (K) à degrés Celsius (C)."
   ]
  },
  {
   "cell_type": "code",
   "execution_count": null,
   "id": "0397b7f4-df17-4ee6-82ab-59789a66b7ea",
   "metadata": {},
   "outputs": [],
   "source": [
    "import numpy as np\n",
    "\n",
    "# Convertir de degrés K à degrés C\n",
    "data = np.array(data_list).ravel() - 273.15\n",
    "time = np.array(time_list).ravel()\n",
    "\n",
    "pyplot.figure(figsize = (12, 4))\n",
    "pyplot.plot(time, data)\n",
    "pyplot.ylabel('Température Min. (deg C)')"
   ]
  }
 ],
 "metadata": {
  "kernelspec": {
   "display_name": "Python 3 (ipykernel)",
   "language": "python",
   "name": "python3"
  },
  "language_info": {
   "codemirror_mode": {
    "name": "ipython",
    "version": 3
   },
   "file_extension": ".py",
   "mimetype": "text/x-python",
   "name": "python",
   "nbconvert_exporter": "python",
   "pygments_lexer": "ipython3",
   "version": "3.10.12"
  }
 },
 "nbformat": 4,
 "nbformat_minor": 5
}

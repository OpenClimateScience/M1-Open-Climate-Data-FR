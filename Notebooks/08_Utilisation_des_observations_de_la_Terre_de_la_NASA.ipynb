   ]
  },
  {
   "cell_type": "markdown",
   "id": "b7ed4753-4aef-4a43-9c3e-0a847cbdc8e4",
   "metadata": {},
   "source": [
    "Chaque fois que nous avons fini de travailler avec un fichier HDF5 ouvert, nous devons nous assurer de le fermer."
   ]
  },
  {
   "cell_type": "code",
   "execution_count": null,
   "id": "4281dc17-0562-4902-b878-ba86687911fb",
   "metadata": {},
   "outputs": [],
   "source": [
    "hdf.close()"
   ]
  },
  {
   "cell_type": "markdown",
   "id": "0e6cf24a-8164-49e9-aac7-d155880a3bcc",
   "metadata": {},
   "source": [
    "**Voyons ce qui est différent lorsque nous ouvrons le même fichier en utilisant `xarray`.** En particulier, examinez les **variables de données.**"
   ]
  },
  {
   "cell_type": "code",
   "execution_count": null,
   "id": "3dd13e73-0f04-4ab1-9a15-ad5dcc0fa21b",
   "metadata": {},
   "outputs": [],
   "source": [
    "ds = xr.open_dataset(filename)\n",
    "ds"
   ]
  },
  {
   "cell_type": "markdown",
   "id": "aa81ced6-0b65-48b4-8290-04fada92528c",
   "metadata": {},
   "source": [
    "La seule variable trouvée, `\"crs\"`, ne sera pas très utile pour nous.\n",
    "\n",
    "**`xarray` a des limitations lorsqu'il ouvre des fichiers HDF5 ; il n'est pas capable de déterminer quels groupes sont disponibles.** Au lieu de cela, nous devons spécifier le groupe que nous voulons ouvrir."
   ]
  },
  {
   "cell_type": "code",
   "execution_count": null,
   "id": "d4937b54-50e1-43de-b426-23745f86caac",
   "metadata": {},
   "outputs": [],
   "source": [
    "ds = xr.open_dataset(filename, group = 'Soil_Moisture_Retrieval_Data_PM')\n",
    "ds"
   ]
  },
  {
   "cell_type": "markdown",
   "id": "eb4b6adc-f6ab-4ee8-8ac6-5503f7b9ec6b",
   "metadata": {},
   "source": [
    "Nous avons maintenant une variable utile, `\"soil_moisture_dca_pm\"`, mais notre `xarray.Dataset` n'a pas de coordonnées !\n",
    "\n",
    "Une manière de résoudre cela serait d'assigner des coordonnées à notre `xarray.Dataset`. C'est pourquoi nous avons besoin de la bibliothèque `h5py`, spécialisée dans la gestion des fichiers HDF5. Nous pouvons lire les coordonnées `\"x\"` et `\"y\"` à partir de notre `h5py.File` et les ajouter au `xarray.Dataset`, comme ci-dessous."
   ]
  },
  {
   "cell_type": "code",
   "execution_count": null,
   "id": "1fbf531a-2dab-4067-8db3-5bdde91b4140",
   "metadata": {},
   "outputs": [],
   "source": [
    "# Instructeur : Notez l'assignation des coordonnées\n",
    "\n",
    "hdf = h5py.File(filename, 'r')\n",
    "ds = ds.assign_coords({'x': hdf['x'][:], 'y': hdf['y'][:]})\n",
    "hdf.close()\n",
    "ds"
   ]
  },
  {
   "cell_type": "markdown",
   "id": "83ad3ae9-9d89-4266-8c56-dcb28bee3054",
   "metadata": {},
   "source": [
    "Maintenant que nous avons à la fois une **variable de données** et des **coordonnées**, nous sommes prêts à tracer les données !"
   ]
  },
  {
   "cell_type": "code",
   "execution_count": null,
   "id": "87fa77a5-e5e3-4a5d-95ba-8c6fbd7a952d",
   "metadata": {},
   "outputs": [],
   "source": [
    "pyplot.figure(figsize = (12, 5))\n",
    "ds['soil_moisture_dca_pm'].plot()"
   ]
  },
  {
   "cell_type": "markdown",
   "id": "9410de18-9d8f-40df-98ec-e8ac2452c6d9",
   "metadata": {},
   "source": [
    "#### &#x1F6A9; <span style=\"color:red\">Faites attention</red>\n",
    "\n",
    "**Remarquez les bandes dans cette image.** Le satellite SMAP a un temps de revisite de 2 à 3 jours. Cela signifie que, sur une seule journée, le radiomètre du satellite n'imagine qu'une partie du globe. Nous pourrions combiner les passages matinaux, `\"soil_moisture_dca_am\"`, et après-midi, `\"soil_moisture_dca_pm\"`, pour une seule journée, mais l'humidité du sol dans de nombreuses régions du monde varie beaucoup entre le matin et l'après-midi, donc cela pourrait ne pas être raisonnable.\n",
    "\n",
    "Nous avons choisi le passage après-midi, `\"soil_moisture_dca_pm\"`, car c'est généralement l'après-midi que le stress hydrique est le plus élevé dans les écosystèmes terrestres."
   ]
  },
  {
   "cell_type": "code",
   "execution_count": null,
   "id": "e7b1d838-e3b8-4073-ac22-7e24324536d6",
   "metadata": {},
   "outputs": [],
   "source": [
    "def process_smap_l3(file_path):\n",
    "    '''\n",
    "    Paramètres\n",
    "    ----------\n",
    "    file_path : str\n",
    "        Le chemin vers le fichier SMAP L3\n",
    "\n",
    "    Renvoie\n",
    "    -------\n",
    "    xarray.Dataset\n",
    "    '''\n",
    "    with h5py.File(file_path, 'r') as hdf:\n",
    "        ds = xr.open_dataset(file_path, group = 'Soil_Moisture_Retrieval_Data_PM')\n",
    "        return ds.assign_coords({'x': hdf['x'][:], 'y': hdf['y'][:]})"
   ]
  },
  {
   "cell_type": "markdown",
   "id": "ee212fd6-14f6-429c-b4d5-7893179250e5",
   "metadata": {},
   "source": [
    "---\n",
    "\n",
    "### Extraction des données SMAP L3\n",
    "\n",
    "Les données d'humidité du sol de SMAP sont globales, mais nous nous intéressons actuellement à une petite région d'étude, les plaines du nord des États-Unis. Comment pouvons-nous extraire les données SMAP pour notre zone d'intérêt ?\n",
    "\n",
    "Vous avez peut-être remarqué que les coordonnées que nous avons ajoutées à notre `xarray.Dataset`, ci-dessus, n'étaient pas des coordonnées latitude-longitude. [Les données SMAP sont projetées sur une grille EASE-Grid 2.0, où \"EASE\" signifie Equal-Area Scalable Earth.](https://nsidc.org/data/user-resources/help-center/guide-ease-grids#anchor-9-km-resolution-ease-grids) Cette projection unique, mondiale, présente de nombreux avantages, mais les coordonnées X (\"Easting\") et Y (\"Northing\") peuvent être difficiles à comprendre lorsque nous avons l'habitude de travailler avec des coordonnées latitude-longitude."
   ]
  },
  {
   "cell_type": "markdown",
   "id": "2f756993-2ee8-4846-85ab-2aa46668ff2d",
   "metadata": {},
   "source": [
    "**Ci-dessous est un exemple de la façon dont nous pourrions modifier notre fonction `process_smap_l3()` pour convertir les coordonnées de notre ensemble de données des coordonnées EASE-Grid 2.0 en coordonnées longitude et latitude à l'aide de la bibliothèque `pyproj`.**\n",
    "\n",
    "```python\n",
    "from pyproj import Transformer\n",
    "from pyproj import CRS\n",
    "\n",
    "def process_smap_l3(file_path):\n",
    "    '''\n",
    "    Paramètres\n",
    "    ----------\n",
    "    file_path : str\n",
    "        Le chemin vers le fichier SMAP L3\n",
    "\n",
    "    Renvoie\n",
    "    -------\n",
    "    xarray.Dataset\n",
    "    '''\n",
    "    # Obtenir une fonction pour convertir les coordonnées de l'EASE-Grid 2.0 en WGS84 (latitude-longitude)\n",
    "    crs_ease2 = CRS.from_epsg(6933)\n",
    "    crs_wgs84 = CRS.from_epsg(4326)\n",
    "    transform = Transformer.from_crs(crs_ease2, crs_wgs84)\n",
    "    \n",
    "    with h5py.File(file_path, 'r') as hdf:\n",
    "        # Convertir de (Northing, Easting) en (Latitude, Longitude)\n",
    "        lng = list(map(lambda x: transform.transform(x, 0)[1], hdf['x'][:].tolist()))\n",
    "        lat = list(map(lambda y: transform.transform(0, y)[0], hdf['y'][:].tolist()))\n",
    "        ds = xr.open_dataset(file_path, group = 'Soil_Moisture_Retrieval_Data_PM')\n",
    "        \n",
    "    return ds.assign_coords({'x': lng, 'y': lat})\n",
    "```\n",
    "\n",
    "&#x1F449; **Pour simplifier, nous ne ferons pas cette conversion des coordonnées dans la leçon d'aujourd'hui.** \n",
    "\n",
    "**Nous allons plutôt extraire nos données en utilisant une plage de lignes et de colonnes correspondant à une zone près de Glasgow, dans le Montana : 105.882 W de longitude et 48.059 N de latitude.**"
   ]
  },
  {
   "cell_type": "code",
   "execution_count": null,
   "id": "0c780896-f79e-493c-bbfa-99c049824b28",
   "metadata": {},
   "outputs": [],
   "source": [
    "ds = process_smap_l3('data_raw/SMAP_L3/SMAP_L3_SM_P_20170802_R18290_001.h5')\n",
    "\n",
    "ds['soil_moisture_dca_pm'][49:59,187:227].plot()"
   ]
  },
  {
   "cell_type": "markdown",
   "id": "0f2f9dd8-0a75-493e-ad70-08423c41c152",
   "metadata": {},
   "source": [
    "#### &#x1F6A9; <span style=\"color:red\">Faites attention</red>\n",
    "\n",
    "Il y a deux points à noter sur cette image :\n",
    "\n",
    "- **Il est évident que la partie ouest de notre zone d'étude a été manquée par le satellite ce jour-là.** Cela signifie que, selon le jour, la valeur reflète les conditions d'humidité du sol dans différentes parties plus petites de notre région d'étude.\n",
    "- **Il y a une zone avec une très forte humidité du sol (pixel jaune vif) au centre gauche de l'image.** Ce pixel est presque certainement un plan d'eau permanent, donc si nous faisions une analyse régionale, nous voudrions le masquer.\n",
    "\n",
    "Abordons ces deux problèmes."
   ]
  },
  {
   "cell_type": "markdown",
   "id": "7424a44b-2747-4bc7-9dba-b25f3d470240",
   "metadata": {},
   "source": [
    "---\n",
    "\n",
    "## Masquage des plans d'eau permanents"
   ]
  }
 ],
 "metadata": {
  "kernelspec": {
   "display_name": "Python 3 (ipykernel)",
   "language": "python",
   "name": "python3"
  },
  "language_info": {
   "codemirror_mode": {
    "name": "ipython",
    "version": 3
   },
   "file_extension": ".py",
   "mimetype": "text/x-python",
   "name": "python",
   "nbconvert_exporter": "python",
   "pygments_lexer": "ipython3",
   "version": "3.10.12"
  }
 },
 "nbformat": 4,
 "nbformat_minor": 5
}

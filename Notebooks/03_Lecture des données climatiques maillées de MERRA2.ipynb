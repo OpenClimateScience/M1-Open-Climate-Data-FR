{
 "cells": [
  {
   "cell_type": "markdown",
   "id": "fe907825-4ecb-49ff-be54-8856d7937703",
   "metadata": {},
   "source": [
    "# M1.3 - Lecture des données climatiques maillées de MERRA-2\n",
    "\n",
    "*Partie de:* [**Open Climate Data**](https://github.com/OpenClimateScience/M1-Open-Climate-Data) | **Leçon précédente** | **Leçon suivante**"
   ]
  },
  {
   "cell_type": "markdown",
   "id": "ddb8e8f7-d523-4f73-9ba4-477825f1fd02",
   "metadata": {},
   "source": [
    "**Contenu :**\n",
    "\n",
    "- [Introduction à `xarray`](#Introduction-à-xarray)\n",
    "- [Utilisation d'un fichier netCDF4 téléchargé](#Utilisation-d'un-fichier-netCDF4-téléchargé)\n",
    "- [Travailler avec les DataArrays de `xarray`](#Travailler-avec-les-DataArrays-de-xarray)\n",
    "- [Sous-ensemble de jeux de données maillés avec `xarray`](#Sous-ensemble-de-jeux-de-données-maillés-avec-xarray)\n",
    "  - [Indexation basée sur des labels](#Indexation-basée-sur-des-labels)\n",
    "  - [Découpage des tableaux](#Découpage-des-tableaux)"
   ]
  },
  {
   "cell_type": "markdown",
   "id": "37facb66-89d3-4b3f-98da-281cecf1ed02",
   "metadata": {},
   "source": [
    "**Maintenant que nous avons vu comment accéder à certaines données climatiques avec NASA Earthdata Search, explorons comment *utiliser* ces données en Python.**\n",
    "\n",
    "Le fichier MERRA-2 que nous avons téléchargé a une extension de fichier `.nc4`. Cela indique qu'il s'agit d'un type de fichier appelé netCDF4, ou Network Common Data Format, version 4. Nous parlerons plus en détail du format netCDF4 plus tard. Pour l'instant, vous devez savoir que vous pouvez ouvrir ce type de fichier en utilisant une bibliothèque Python appelée `xarray`."
   ]
  },
  {
   "cell_type": "markdown",
   "id": "c924a3ee-544b-4ac0-91ac-7cbb262b377d",
   "metadata": {},
   "source": [
    "## Introduction à `xarray`"
   ]
  },
  {
   "cell_type": "markdown",
   "id": "143bff5d-333e-480d-bfd3-b741bff8c59f",
   "metadata": {},
   "source": [
    "Nous allons utiliser un package Python appelé `xarray` pour ouvrir le fichier netCDF4 que nous avons téléchargé. `xarray` est conçu pour travailler avec des jeux de données maillés multidimensionnels.\n",
    "\n",
    "![](./assets/xarray-dataset.png)"
   ]
  },
  {
   "cell_type": "markdown",
   "id": "42db25ec-26f6-4718-a9ff-eff1bee8271a",
   "metadata": {},
   "source": [
    "Comme le montre la figure ci-dessus, un seul `xarray.Dataset` peut contenir plusieurs variables comme la température, les précipitations, la latitude et la longitude. Chaque variable est stockée sous forme de tableau, plus précisément un `xarray.DataArray`. Tandis que la latitude et la longitude sont constantes dans le temps et sont donc représentées sous forme de tableaux 2D, des variables comme la température et les précipitations varient à la fois dans le temps et dans l'espace, elles peuvent donc être représentées sous forme de **cubes de données** 3D. Les axes x, y et temps (t) **axes** (également appelés **dimensions**) peuvent être utilisés pour sous-ensembles de tableaux à des périodes ou zones d'étude d'intérêt.\n",
    "\n",
    "**Nous importons généralement `xarray` avec un nom plus court, pour le rendre plus facile à utiliser. Ci-dessous, nous importons également le module `pyplot` de `matplotlib`.**"
   ]
  },
  {
   "cell_type": "code",
   "execution_count": null,
   "id": "5af7c0c0-b184-4c29-98f1-94033f52e678",
   "metadata": {},
   "outputs": [],
   "source": [
    "import xarray as xr\n",
    "from matplotlib import pyplot"
   ]
  },
  {
   "cell_type": "markdown",
   "id": "9d96d231-fbd8-4209-ae4e-5d41a58d3387",
   "metadata": {},
   "source": [
    "---\n",
    "\n",
    "## Utilisation d'un fichier netCDF4 téléchargé"
   ]
  },
  {
   "cell_type": "markdown",
   "id": "e7ad8f44-06f5-4ae1-9bf1-8cdd1048bda9",
   "metadata": {},
   "source": [
    "Nous pouvons ouvrir un fichier netCDF4 dans `xarray` en utilisant la fonction `open_dataset()`."
   ]
  },
  {
   "cell_type": "code",
   "execution_count": null,
   "id": "f99f9b11-3492-4c16-9311-318f1dadd71d",
   "metadata": {
    "scrolled": true
   },
   "outputs": [],
   "source": [
    "ds = xr.open_dataset('data/MERRA2_400.statD_2d_slv_Nx.20231101.nc4')\n",
    "ds"
   ]
  },
  {
   "cell_type": "markdown",
   "id": "a2d6707b-746e-4595-96b7-ff2c07b2dfce",
   "metadata": {},
   "source": [
    "Il y a beaucoup à voir ici. Ce jeu de données a :\n",
    "\n",
    "- **Dimensions :** Si vous travaillez avec des données cartographiques, ces données ont au moins deux dimensions (par exemple, latitude et longitude). Si la carte a été générée à partir de données satellitaires et que le satellite fournit de nouvelles observations chaque jour, nous pouvons introduire une troisième dimension, le temps. Ces dimensions décrivent la forme d'un **cube de données** avec trois **axes :** longitude (\"lon\"), latitude (\"lat\") et temps.\n",
    "- **Coordonnées :** Similaires aux dimensions, les coordonnées sont les distances le long de chaque axe. Pour la longitude et la latitude, ce sont les coordonnées du centre de chaque pixel.\n",
    "- **Variables de données :** Un fichier netCDF4 peut contenir différentes variables qui sont cartographiées sur la même grille. Par exemple, vous pouvez avoir à la fois la température minimale et maximale quotidienne dans le même fichier.\n",
    "- **Index :** Ceux-ci sont comme les coordonnées et les dimensions, donc nous n'avons pas besoin de nous en préoccuper pour l'instant.\n",
    "- **Attributs :** En plus des valeurs de données cartographiées, un fichier netCDF4 peut contenir des **métadonnées** pour aider les utilisateurs à comprendre les données. Les métadonnées sont enregistrées sous forme d'attributs et décrivent des éléments tels que la version du logiciel utilisée pour créer les données ou l'auteur des données.\n",
    "\n",
    "Les variables dans un `xarray.Dataset` peuvent être accédées comme les clés d'un dictionnaire Python :"
   ]
  },
  {
   "cell_type": "code",
   "execution_count": null,
   "id": "bcaa8c22-b65e-4c1e-bb2f-bc75be54a90e",
   "metadata": {},
   "outputs": [],
   "source": [
    "ds['T2MMIN']"
   ]
  },
  {
   "cell_type": "markdown",
   "id": "e30326d0-52a8-49a9-8c8a-58ac55011ea8",
   "metadata": {},
   "source": [
    "Et aussi comme une propriété :"
   ]
  },
  {
   "cell_type": "code",
   "execution_count": null,
   "id": "fafc4010-243a-480b-b5e3-673abbd5f1b0",
   "metadata": {},
   "outputs": [],
   "source": [
    "ds.T2MMIN"
   ]
  },
  {
   "cell_type": "markdown",
   "id": "24b269f0-ccce-4699-be3d-2a55e0e6df8c",
   "metadata": {},
   "source": [
    "Chaque `Dataset` a un tableau sous-jacent. Le jeu de données `\"T2MMIN\"` est un tableau tridimensionnel ; nous pouvons vérifier le nom et le nombre de dimensions en accédant à la propriété `dims` :"
   ]
  },
  {
   "cell_type": "code",
   "execution_count": null,
   "id": "24a530d6-676a-48df-99fe-570af26a316b",
   "metadata": {},
   "outputs": [],
   "source": [
    "ds['T2MMIN'].dims"
   ]
  },
  {
   "cell_type": "markdown",
   "id": "764be491-9563-4f96-8b09-96c281fc34a5",
   "metadata": {},
   "source": [
    "Cela indique que les valeurs de `\"T2MMIN\"` varient en fonction du temps et de deux dimensions spatiales (latitude et longitude). Même si ce jeu de données représente un seul point dans le temps, il existe toujours une dimension temporelle car le granule que nous avons téléchargé fait partie d'une série, chacun représentant une étape temporelle différente.\n",
    "\n",
    "**L'une des particularités des fichiers netCDF4 est qu'ils peuvent stocker à la fois des données et des métadonnées, ou attributs.**"
   ]
  },
  {
   "cell_type": "code",
   "execution_count": null,
   "id": "d0a8646f-c2be-49fc-905b-1cfbf936c0bf",
   "metadata": {},
   "outputs": [],
   "source": [
    "ds['T2MMIN'].attrs"
   ]
  },
  {
   "cell_type": "markdown",
   "id": "37a58239-d47a-4f04-9718-db482a433b35",
   "metadata": {},
   "source": [
    "Les attributs peuvent stocker des informations essentielles sur les données. Par exemple, il serait difficile d'utiliser des données de température sans connaître les unités correctes.\n",
    "\n",
    "`xarray` propose des outils pratiques intégrés pour analyser nos données, comme la possibilité de tracer des jeux de données."
   ]
  },
  {
   "cell_type": "code",
   "execution_count": null,
   "id": "b4492e82-5c06-4728-bcf5-cd4697c25c96",
   "metadata": {},
   "outputs": [],
   "source": [
    "ds['T2MMIN'].plot()"
   ]
  },
  {
   "cell_type": "markdown",
   "id": "cbf13d99-ac79-4785-b9e7-3dc5cd74845c",
   "metadata": {},
   "source": [
    "Les tableaux de données sous-jacents sont simplement des tableaux NumPy, donc si nous voulons travailler avec un tableau NumPy à la place..."
   ]
  },
  {
   "cell_type": "code",
   "execution_count": null,
   "id": "63be63b7-6aa0-4999-9d1c-7e5cfdfe5d12",
   "metadata": {},
   "outputs": [],
   "source": [
    "ds['T2MMIN'].data"
   ]
  },
  {
   "cell_type": "markdown",
   "id": "f84f4056-c77c-4904-9aac-f98526b0cdb8",
   "metadata": {},
   "source": [
    "Encore une fois, le premier axe du tableau contient un seul élément, `(1)`, car ce fichier représente un seul point dans le temps."
   ]
  },
  {
   "cell_type": "code",
   "execution_count": null,
   "id": "dc15f3c0-58fb-4c99-81a1-6e92a86d214e",
   "metadata": {},
   "outputs": [],
   "source": [
    "ds['T2MMIN'].data.shape"
   ]
  },
  {
   "cell_type": "markdown",
   "id": "05d85a4e-8173-4d15-a68b-c06fc52eb598",
   "metadata": {},
   "source": [
    "---\n",
    "\n",
    "## Travailler avec les DataArrays de `xarray`"
   ]
  },
  {
   "cell_type": "code",
   "execution_count": null,
   "id": "3641d2a6-3e64-455e-beaf-2726c0446c51",
   "metadata": {},
   "outputs": [],
   "source": [
    "tmin = ds['T2MMIN']\n",
    "tmin.attrs"
   ]
  },
  {
   "cell_type": "markdown",
   "id": "b91623b2-584b-4e7b-af15-9562d123cede",
   "metadata": {},
   "source": [
    "Comme avec les tableaux NumPy, nous pouvons traiter un DataArray comme un nombre, ce qui rend les transformations mathématiques de nos données faciles. Par exemple, nous pourrions vouloir convertir nos températures minimales de degrés K en degrés C."
   ]
  },
  {
   "cell_type": "code",
   "execution_count": null,
   "id": "7209acc9-ea8f-4c3f-830f-2470055d296e",
   "metadata": {},
   "outputs": [],
   "source": [
    "# Convertir les températures de degrés K à degrés C\n",
    "tmin_c = tmin - 273.15"
   ]
  },
  {
   "cell_type": "markdown",
   "id": "ffdb847c-d30e-499f-ab4d-39a749280176",
   "metadata": {},
   "source": [
    "Une chose à savoir est que lorsque nous faisons ce type d'opération, nous perdons les attributs du DataArray d'origine. Cela s'explique par le fait que les anciens attributs peuvent ne plus s'appliquer ; en fait, nous savons déjà que les \"unités\" du DataArray d'origine (degrés K) ne sont plus exactes."
   ]
  },
  {
   "cell_type": "code",
   "execution_count": null,
   "id": "e4eda429-af4f-4910-8d30-ed69d22a8931",
   "metadata": {},
   "outputs": [],
   "source": [
    "tmin_c.attrs"
   ]
  },
  {
   "cell_type": "markdown",
   "id": "cfa9a627-cec8-4a7e-abc7-25ff6aa524e3",
   "metadata": {},
   "source": [
    "Nous pouvons attribuer des attributs à tout moment, en utilisant une syntaxe de dictionnaire Python."
   ]
  },
  {
   "cell_type": "code",
   "execution_count": null,
   "id": "803a58d7-afe5-4901-9988-4e4f888d9456",
   "metadata": {},
   "outputs": [],
   "source": [
    "tmin_c.attrs['units'] = 'degrés K'\n",
    "tmin_c.attrs"
   ]
  },
  {
   "cell_type": "markdown",
   "id": "aca3451b-e9c1-431f-a3a5-38724043547f",
   "metadata": {},
   "source": [
    "Quel est l'intérêt d'attribuer de nouveaux attributs ? Vous devriez faire cela chaque fois que vous allez enregistrer un Dataset ou un DataArray dans un fichier de sortie et le partager avec quelqu'un. Les Datasets et DataArrays ont une méthode, `to_netcdf()`, qui vous permet de faire exactement cela."
   ]
  },
  {
   "cell_type": "code",
   "execution_count": null,
   "id": "88580648-828e-476c-8cc2-9f23ed84fa05",
   "metadata": {},
   "outputs": [],
   "source": [
    "tmin_c.to_netcdf('exemple.nc4')"
   ]
  },
  {
   "cell_type": "markdown",
   "id": "3d74d170-9bff-4736-8f65-09520951134d",
   "metadata": {},
   "source": [
    "---\n",
    "\n",
    "## Sous-ensemble de jeux de données maillés avec `xarray`"
   ]
  },
  {
   "cell_type": "markdown",
   "id": "0b6a620d-c9f8-4a68-b368-2af5122a3210",
   "metadata": {},
   "source": [
    "Parce que nous avons téléchargé des données moyennes quotidiennes de MERRA-2, il n'y a qu'une seule grille 2D de températures dans ce jeu de données. Cela signifie que notre dimension temporelle a une longueur de un."
   ]
  },
  {
   "cell_type": "code",
   "execution_count": null,
   "id": "bd0f92d4-cc52-4aca-8116-eb9d8921e03d",
   "metadata": {},
   "outputs": [],
   "source": [
    "tmin.shape"
   ]
  },
  {
  
